{
 "cells": [
  {
   "cell_type": "markdown",
   "metadata": {},
   "source": [
    "# WeatherPy\n",
    "----\n",
    "\n",
    "### Analysis\n",
    "* As expected, the weather becomes significantly warmer as one approaches the equator (0 Deg. Latitude). More interestingly, however, is the fact that the southern hemisphere tends to be warmer this time of year than the northern hemisphere. This may be due to the tilt of the earth.\n",
    "* There is no strong relationship between latitude and cloudiness. However, it is interesting to see that a strong band of cities sits at 0, 80, and 100% cloudiness.\n",
    "* There is no strong relationship between latitude and wind speed. However, in northern hemispheres there is a flurry of cities with over 20 mph of wind.\n",
    "\n",
    "---\n",
    "\n",
    "#### Note\n",
    "* Instructions have been included for each segment. You do not have to follow them exactly, but they are included to help you think through the steps."
   ]
  },
  {
   "cell_type": "code",
   "execution_count": 1,
   "metadata": {
    "scrolled": true
   },
   "outputs": [],
   "source": [
    "# Dependencies and Setup\n",
    "import json\n",
    "import requests\n",
    "import random\n",
    "import pandas as pd\n",
    "import numpy as np\n",
    "import time\n",
    "from citipy import citipy\n",
    "import matplotlib.pyplot as plt\n",
    "import seaborn as sns\n",
    "\n"
   ]
  },
  {
   "cell_type": "code",
   "execution_count": 2,
   "metadata": {},
   "outputs": [],
   "source": [
    "# make variables for latitude and longitude  \n",
    "\n",
    "lat = {'min': -90, 'max': 90}\n",
    "long = {'min': -180, 'max': 180}\n",
    "\n",
    "# Create arrays containing increments of lat and long.\n",
    "lat_array = np.arange(lat['min'], lat['max'], 0.01)\n",
    "long_array = np.arange(long['min'], long['max'], 0.01)"
   ]
  },
  {
   "cell_type": "code",
   "execution_count": 3,
   "metadata": {},
   "outputs": [],
   "source": [
    "\n",
    "# data frame for city and weather data\n",
    "column_title = ('city_name', 'country_code', 'Latitude', 'Longitude','Temp (F)',\n",
    "            'Humidity (%)','Cloudiness (%)','Wind Speed (mph)')\n",
    "WeatherPy_df = pd.DataFrame(columns = column_title)"
   ]
  },
  {
   "cell_type": "markdown",
   "metadata": {},
   "source": [
    "### Perform API Calls\n",
    "* Perform a weather check on each city using a series of successive API calls.\n",
    "* Include a print log of each city as it'sbeing processed (with the city number and city name).\n"
   ]
  },
  {
   "cell_type": "code",
   "execution_count": 8,
   "metadata": {},
   "outputs": [
    {
     "name": "stdout",
     "output_type": "stream",
     "text": [
      "City: Chuy. http://api.openweathermap.org/data/2.5/weather?q=chuy,uy&units=imperial&APPID=06380c949aec90a798561052e0fbd015\n",
      "City: Mar del Plata. http://api.openweathermap.org/data/2.5/weather?q=mar del plata,ar&units=imperial&APPID=06380c949aec90a798561052e0fbd015\n",
      "City: Sao Filipe. http://api.openweathermap.org/data/2.5/weather?q=sao filipe,cv&units=imperial&APPID=06380c949aec90a798561052e0fbd015\n",
      "City: Atuona. http://api.openweathermap.org/data/2.5/weather?q=atuona,pf&units=imperial&APPID=06380c949aec90a798561052e0fbd015\n",
      "City: Pisco. http://api.openweathermap.org/data/2.5/weather?q=pisco,pe&units=imperial&APPID=06380c949aec90a798561052e0fbd015\n",
      "City: Constitucion. http://api.openweathermap.org/data/2.5/weather?q=constitucion,mx&units=imperial&APPID=06380c949aec90a798561052e0fbd015\n",
      "City: Rikitea. http://api.openweathermap.org/data/2.5/weather?q=rikitea,pf&units=imperial&APPID=06380c949aec90a798561052e0fbd015\n",
      "City: Victoria. http://api.openweathermap.org/data/2.5/weather?q=victoria,sc&units=imperial&APPID=06380c949aec90a798561052e0fbd015\n",
      "City: Rikitea. http://api.openweathermap.org/data/2.5/weather?q=rikitea,pf&units=imperial&APPID=06380c949aec90a798561052e0fbd015\n",
      "City: Arman. http://api.openweathermap.org/data/2.5/weather?q=arman,ru&units=imperial&APPID=06380c949aec90a798561052e0fbd015\n",
      "City: Kodiak. http://api.openweathermap.org/data/2.5/weather?q=kodiak,us&units=imperial&APPID=06380c949aec90a798561052e0fbd015\n",
      "City: Abu Dhabi. http://api.openweathermap.org/data/2.5/weather?q=abu dhabi,ae&units=imperial&APPID=06380c949aec90a798561052e0fbd015\n",
      "City: Saskylakh. http://api.openweathermap.org/data/2.5/weather?q=saskylakh,ru&units=imperial&APPID=06380c949aec90a798561052e0fbd015\n",
      "City: Ushuaia. http://api.openweathermap.org/data/2.5/weather?q=ushuaia,ar&units=imperial&APPID=06380c949aec90a798561052e0fbd015\n",
      "City: Bethel. http://api.openweathermap.org/data/2.5/weather?q=bethel,us&units=imperial&APPID=06380c949aec90a798561052e0fbd015\n",
      "City: Balasore. http://api.openweathermap.org/data/2.5/weather?q=baleshwar,in&units=imperial&APPID=06380c949aec90a798561052e0fbd015\n",
      "City: Jamestown. http://api.openweathermap.org/data/2.5/weather?q=jamestown,sh&units=imperial&APPID=06380c949aec90a798561052e0fbd015\n",
      "City: Honningsvag. http://api.openweathermap.org/data/2.5/weather?q=honningsvag,no&units=imperial&APPID=06380c949aec90a798561052e0fbd015\n",
      "City: Ewa Beach. http://api.openweathermap.org/data/2.5/weather?q=ewa beach,us&units=imperial&APPID=06380c949aec90a798561052e0fbd015\n",
      "City: Coahuayana. http://api.openweathermap.org/data/2.5/weather?q=coahuayana,mx&units=imperial&APPID=06380c949aec90a798561052e0fbd015\n",
      "City: Oriximina. http://api.openweathermap.org/data/2.5/weather?q=oriximina,br&units=imperial&APPID=06380c949aec90a798561052e0fbd015\n",
      "City: Dingle. http://api.openweathermap.org/data/2.5/weather?q=dingle,ie&units=imperial&APPID=06380c949aec90a798561052e0fbd015\n",
      "City: Atuona. http://api.openweathermap.org/data/2.5/weather?q=atuona,pf&units=imperial&APPID=06380c949aec90a798561052e0fbd015\n",
      "City: Tasiilaq. http://api.openweathermap.org/data/2.5/weather?q=tasiilaq,gl&units=imperial&APPID=06380c949aec90a798561052e0fbd015\n",
      "City: Chichli. http://api.openweathermap.org/data/2.5/weather?q=chichli,in&units=imperial&APPID=06380c949aec90a798561052e0fbd015\n",
      "City: Longyearbyen. http://api.openweathermap.org/data/2.5/weather?q=longyearbyen,sj&units=imperial&APPID=06380c949aec90a798561052e0fbd015\n",
      "City: Vaini. http://api.openweathermap.org/data/2.5/weather?q=vaini,to&units=imperial&APPID=06380c949aec90a798561052e0fbd015\n",
      "City: Avarua. http://api.openweathermap.org/data/2.5/weather?q=avarua,ck&units=imperial&APPID=06380c949aec90a798561052e0fbd015\n",
      "City: Punta Arenas. http://api.openweathermap.org/data/2.5/weather?q=punta arenas,cl&units=imperial&APPID=06380c949aec90a798561052e0fbd015\n",
      "City: Hobart. http://api.openweathermap.org/data/2.5/weather?q=hobart,au&units=imperial&APPID=06380c949aec90a798561052e0fbd015\n",
      "City: Boyolangu. http://api.openweathermap.org/data/2.5/weather?q=boyolangu,id&units=imperial&APPID=06380c949aec90a798561052e0fbd015\n",
      "City: Port Augusta. http://api.openweathermap.org/data/2.5/weather?q=port augusta,au&units=imperial&APPID=06380c949aec90a798561052e0fbd015\n",
      "City: Provost. http://api.openweathermap.org/data/2.5/weather?q=provost,ca&units=imperial&APPID=06380c949aec90a798561052e0fbd015\n",
      "City: Riyadh. http://api.openweathermap.org/data/2.5/weather?q=riyadh,sa&units=imperial&APPID=06380c949aec90a798561052e0fbd015\n",
      "City: Salcininkai. http://api.openweathermap.org/data/2.5/weather?q=salcininkai,lt&units=imperial&APPID=06380c949aec90a798561052e0fbd015\n",
      "City: Albany. http://api.openweathermap.org/data/2.5/weather?q=albany,au&units=imperial&APPID=06380c949aec90a798561052e0fbd015\n",
      "City: Rikitea. http://api.openweathermap.org/data/2.5/weather?q=rikitea,pf&units=imperial&APPID=06380c949aec90a798561052e0fbd015\n",
      "City: Olhao. http://api.openweathermap.org/data/2.5/weather?q=olhao,pt&units=imperial&APPID=06380c949aec90a798561052e0fbd015\n",
      "City: New Norfolk. http://api.openweathermap.org/data/2.5/weather?q=new norfolk,au&units=imperial&APPID=06380c949aec90a798561052e0fbd015\n",
      "City: Brandon. http://api.openweathermap.org/data/2.5/weather?q=brandon,us&units=imperial&APPID=06380c949aec90a798561052e0fbd015\n",
      "City: Galveston. http://api.openweathermap.org/data/2.5/weather?q=galveston,us&units=imperial&APPID=06380c949aec90a798561052e0fbd015\n",
      "City: Saint-Francois. http://api.openweathermap.org/data/2.5/weather?q=saint-francois,gp&units=imperial&APPID=06380c949aec90a798561052e0fbd015\n",
      "City: Santa Luzia. http://api.openweathermap.org/data/2.5/weather?q=santa luzia,br&units=imperial&APPID=06380c949aec90a798561052e0fbd015\n",
      "City: Lampazos de Naranjo. http://api.openweathermap.org/data/2.5/weather?q=lampazos de naranjo,mx&units=imperial&APPID=06380c949aec90a798561052e0fbd015\n",
      "City: Gushikawa. http://api.openweathermap.org/data/2.5/weather?q=gushikawa,jp&units=imperial&APPID=06380c949aec90a798561052e0fbd015\n",
      "City: Ushuaia. http://api.openweathermap.org/data/2.5/weather?q=ushuaia,ar&units=imperial&APPID=06380c949aec90a798561052e0fbd015\n",
      "City: Hilo. http://api.openweathermap.org/data/2.5/weather?q=hilo,us&units=imperial&APPID=06380c949aec90a798561052e0fbd015\n",
      "City: Hermanus. http://api.openweathermap.org/data/2.5/weather?q=hermanus,za&units=imperial&APPID=06380c949aec90a798561052e0fbd015\n",
      "City: Hauterive. http://api.openweathermap.org/data/2.5/weather?q=hauterive,ca&units=imperial&APPID=06380c949aec90a798561052e0fbd015\n",
      "City: Afua. http://api.openweathermap.org/data/2.5/weather?q=afua,br&units=imperial&APPID=06380c949aec90a798561052e0fbd015\n",
      "City: Albany. http://api.openweathermap.org/data/2.5/weather?q=albany,au&units=imperial&APPID=06380c949aec90a798561052e0fbd015\n",
      "City: Sanming. http://api.openweathermap.org/data/2.5/weather?q=sanming,cn&units=imperial&APPID=06380c949aec90a798561052e0fbd015\n",
      "City: Tiksi. http://api.openweathermap.org/data/2.5/weather?q=tiksi,ru&units=imperial&APPID=06380c949aec90a798561052e0fbd015\n",
      "City: Yellowknife. http://api.openweathermap.org/data/2.5/weather?q=yellowknife,ca&units=imperial&APPID=06380c949aec90a798561052e0fbd015\n",
      "City: Bredasdorp. http://api.openweathermap.org/data/2.5/weather?q=bredasdorp,za&units=imperial&APPID=06380c949aec90a798561052e0fbd015\n",
      "City: Saravena. http://api.openweathermap.org/data/2.5/weather?q=saravena,co&units=imperial&APPID=06380c949aec90a798561052e0fbd015\n",
      "City: Butaritari. http://api.openweathermap.org/data/2.5/weather?q=butaritari,ki&units=imperial&APPID=06380c949aec90a798561052e0fbd015\n",
      "City: Saint George. http://api.openweathermap.org/data/2.5/weather?q=saint george,bm&units=imperial&APPID=06380c949aec90a798561052e0fbd015\n",
      "City: Le Port. http://api.openweathermap.org/data/2.5/weather?q=le port,re&units=imperial&APPID=06380c949aec90a798561052e0fbd015\n",
      "City: Filingue. http://api.openweathermap.org/data/2.5/weather?q=filingue,ne&units=imperial&APPID=06380c949aec90a798561052e0fbd015\n",
      "City: Polis. http://api.openweathermap.org/data/2.5/weather?q=polis,cy&units=imperial&APPID=06380c949aec90a798561052e0fbd015\n",
      "City: Lagoa. http://api.openweathermap.org/data/2.5/weather?q=lagoa,pt&units=imperial&APPID=06380c949aec90a798561052e0fbd015\n",
      "City: Hermanus. http://api.openweathermap.org/data/2.5/weather?q=hermanus,za&units=imperial&APPID=06380c949aec90a798561052e0fbd015\n"
     ]
    },
    {
     "name": "stdout",
     "output_type": "stream",
     "text": [
      "City: Vao. http://api.openweathermap.org/data/2.5/weather?q=vao,nc&units=imperial&APPID=06380c949aec90a798561052e0fbd015\n",
      "City: Albany. http://api.openweathermap.org/data/2.5/weather?q=albany,au&units=imperial&APPID=06380c949aec90a798561052e0fbd015\n",
      "City: Hithadhoo. http://api.openweathermap.org/data/2.5/weather?q=hithadhoo,mv&units=imperial&APPID=06380c949aec90a798561052e0fbd015\n",
      "City: Saldanha. http://api.openweathermap.org/data/2.5/weather?q=saldanha,za&units=imperial&APPID=06380c949aec90a798561052e0fbd015\n",
      "City: Sosnovo-Ozerskoye. http://api.openweathermap.org/data/2.5/weather?q=sosnovo-ozerskoye,ru&units=imperial&APPID=06380c949aec90a798561052e0fbd015\n",
      "City: Hobart. http://api.openweathermap.org/data/2.5/weather?q=hobart,au&units=imperial&APPID=06380c949aec90a798561052e0fbd015\n",
      "City: Nanortalik. http://api.openweathermap.org/data/2.5/weather?q=nanortalik,gl&units=imperial&APPID=06380c949aec90a798561052e0fbd015\n",
      "City: Vestmannaeyjar. http://api.openweathermap.org/data/2.5/weather?q=vestmannaeyjar,is&units=imperial&APPID=06380c949aec90a798561052e0fbd015\n",
      "City: Hithadhoo. http://api.openweathermap.org/data/2.5/weather?q=hithadhoo,mv&units=imperial&APPID=06380c949aec90a798561052e0fbd015\n",
      "City: Busselton. http://api.openweathermap.org/data/2.5/weather?q=busselton,au&units=imperial&APPID=06380c949aec90a798561052e0fbd015\n",
      "City: Yellowknife. http://api.openweathermap.org/data/2.5/weather?q=yellowknife,ca&units=imperial&APPID=06380c949aec90a798561052e0fbd015\n",
      "City: Nanortalik. http://api.openweathermap.org/data/2.5/weather?q=nanortalik,gl&units=imperial&APPID=06380c949aec90a798561052e0fbd015\n",
      "City: Hermanus. http://api.openweathermap.org/data/2.5/weather?q=hermanus,za&units=imperial&APPID=06380c949aec90a798561052e0fbd015\n",
      "City: Ushuaia. http://api.openweathermap.org/data/2.5/weather?q=ushuaia,ar&units=imperial&APPID=06380c949aec90a798561052e0fbd015\n",
      "City: Kapaa. http://api.openweathermap.org/data/2.5/weather?q=kapaa,us&units=imperial&APPID=06380c949aec90a798561052e0fbd015\n",
      "City: Aksarka. http://api.openweathermap.org/data/2.5/weather?q=aksarka,ru&units=imperial&APPID=06380c949aec90a798561052e0fbd015\n",
      "City: Kodiak. http://api.openweathermap.org/data/2.5/weather?q=kodiak,us&units=imperial&APPID=06380c949aec90a798561052e0fbd015\n",
      "City: Jalingo. http://api.openweathermap.org/data/2.5/weather?q=jalingo,ng&units=imperial&APPID=06380c949aec90a798561052e0fbd015\n",
      "City: Roma. http://api.openweathermap.org/data/2.5/weather?q=roma,au&units=imperial&APPID=06380c949aec90a798561052e0fbd015\n",
      "City: Port Elizabeth. http://api.openweathermap.org/data/2.5/weather?q=port elizabeth,za&units=imperial&APPID=06380c949aec90a798561052e0fbd015\n",
      "City: Dikson. http://api.openweathermap.org/data/2.5/weather?q=dikson,ru&units=imperial&APPID=06380c949aec90a798561052e0fbd015\n",
      "City: Panuco. http://api.openweathermap.org/data/2.5/weather?q=panuco,mx&units=imperial&APPID=06380c949aec90a798561052e0fbd015\n",
      "City: Fortuna. http://api.openweathermap.org/data/2.5/weather?q=fortuna,us&units=imperial&APPID=06380c949aec90a798561052e0fbd015\n",
      "City: Ushuaia. http://api.openweathermap.org/data/2.5/weather?q=ushuaia,ar&units=imperial&APPID=06380c949aec90a798561052e0fbd015\n",
      "City: Cape Town. http://api.openweathermap.org/data/2.5/weather?q=cape town,za&units=imperial&APPID=06380c949aec90a798561052e0fbd015\n",
      "City: Eirunepe. http://api.openweathermap.org/data/2.5/weather?q=eirunepe,br&units=imperial&APPID=06380c949aec90a798561052e0fbd015\n",
      "City: Mantua. http://api.openweathermap.org/data/2.5/weather?q=mantua,cu&units=imperial&APPID=06380c949aec90a798561052e0fbd015\n",
      "City: Aragarcas. http://api.openweathermap.org/data/2.5/weather?q=aragarcas,br&units=imperial&APPID=06380c949aec90a798561052e0fbd015\n",
      "City: Sivaki. http://api.openweathermap.org/data/2.5/weather?q=sivaki,ru&units=imperial&APPID=06380c949aec90a798561052e0fbd015\n",
      "City: Isangel. http://api.openweathermap.org/data/2.5/weather?q=isangel,vu&units=imperial&APPID=06380c949aec90a798561052e0fbd015\n",
      "City: Puerto Ayora. http://api.openweathermap.org/data/2.5/weather?q=puerto ayora,ec&units=imperial&APPID=06380c949aec90a798561052e0fbd015\n",
      "City: Dezhou. http://api.openweathermap.org/data/2.5/weather?q=dezhou,cn&units=imperial&APPID=06380c949aec90a798561052e0fbd015\n",
      "City: Charlestown. http://api.openweathermap.org/data/2.5/weather?q=charlestown,us&units=imperial&APPID=06380c949aec90a798561052e0fbd015\n",
      "City: Ondangwa. http://api.openweathermap.org/data/2.5/weather?q=ondangwa,na&units=imperial&APPID=06380c949aec90a798561052e0fbd015\n",
      "City: Khatanga. http://api.openweathermap.org/data/2.5/weather?q=khatanga,ru&units=imperial&APPID=06380c949aec90a798561052e0fbd015\n",
      "City: Hermanus. http://api.openweathermap.org/data/2.5/weather?q=hermanus,za&units=imperial&APPID=06380c949aec90a798561052e0fbd015\n",
      "City: Yellowknife. http://api.openweathermap.org/data/2.5/weather?q=yellowknife,ca&units=imperial&APPID=06380c949aec90a798561052e0fbd015\n",
      "City: Pochutla. http://api.openweathermap.org/data/2.5/weather?q=pochutla,mx&units=imperial&APPID=06380c949aec90a798561052e0fbd015\n",
      "City: Cap Malheureux. http://api.openweathermap.org/data/2.5/weather?q=cap malheureux,mu&units=imperial&APPID=06380c949aec90a798561052e0fbd015\n",
      "City: Barrow. http://api.openweathermap.org/data/2.5/weather?q=barrow,us&units=imperial&APPID=06380c949aec90a798561052e0fbd015\n",
      "City: Ploemeur. http://api.openweathermap.org/data/2.5/weather?q=ploemeur,fr&units=imperial&APPID=06380c949aec90a798561052e0fbd015\n",
      "City: Bredasdorp. http://api.openweathermap.org/data/2.5/weather?q=bredasdorp,za&units=imperial&APPID=06380c949aec90a798561052e0fbd015\n",
      "City: Biak. http://api.openweathermap.org/data/2.5/weather?q=biak,id&units=imperial&APPID=06380c949aec90a798561052e0fbd015\n",
      "City: Broome. http://api.openweathermap.org/data/2.5/weather?q=broome,au&units=imperial&APPID=06380c949aec90a798561052e0fbd015\n",
      "City: Atuona. http://api.openweathermap.org/data/2.5/weather?q=atuona,pf&units=imperial&APPID=06380c949aec90a798561052e0fbd015\n",
      "City: Clarence Town. http://api.openweathermap.org/data/2.5/weather?q=clarence town,bs&units=imperial&APPID=06380c949aec90a798561052e0fbd015\n",
      "City: Ponta Delgada. http://api.openweathermap.org/data/2.5/weather?q=ponta delgada,pt&units=imperial&APPID=06380c949aec90a798561052e0fbd015\n",
      "City: Chuy. http://api.openweathermap.org/data/2.5/weather?q=chuy,uy&units=imperial&APPID=06380c949aec90a798561052e0fbd015\n",
      "City: Sistranda. http://api.openweathermap.org/data/2.5/weather?q=sistranda,no&units=imperial&APPID=06380c949aec90a798561052e0fbd015\n",
      "City: Bethel. http://api.openweathermap.org/data/2.5/weather?q=bethel,us&units=imperial&APPID=06380c949aec90a798561052e0fbd015\n",
      "City: Norman Wells. http://api.openweathermap.org/data/2.5/weather?q=norman wells,ca&units=imperial&APPID=06380c949aec90a798561052e0fbd015\n",
      "City: Yellowknife. http://api.openweathermap.org/data/2.5/weather?q=yellowknife,ca&units=imperial&APPID=06380c949aec90a798561052e0fbd015\n",
      "City: Bethel. http://api.openweathermap.org/data/2.5/weather?q=bethel,us&units=imperial&APPID=06380c949aec90a798561052e0fbd015\n",
      "City: Hilo. http://api.openweathermap.org/data/2.5/weather?q=hilo,us&units=imperial&APPID=06380c949aec90a798561052e0fbd015\n",
      "City: Saint-Philippe. http://api.openweathermap.org/data/2.5/weather?q=saint-philippe,re&units=imperial&APPID=06380c949aec90a798561052e0fbd015\n",
      "City: Mahebourg. http://api.openweathermap.org/data/2.5/weather?q=mahebourg,mu&units=imperial&APPID=06380c949aec90a798561052e0fbd015\n",
      "City: Naze. http://api.openweathermap.org/data/2.5/weather?q=naze,jp&units=imperial&APPID=06380c949aec90a798561052e0fbd015\n",
      "City: Carutapera. http://api.openweathermap.org/data/2.5/weather?q=carutapera,br&units=imperial&APPID=06380c949aec90a798561052e0fbd015\n",
      "City: Port Keats. http://api.openweathermap.org/data/2.5/weather?q=port keats,au&units=imperial&APPID=06380c949aec90a798561052e0fbd015\n",
      "City: Kuah. http://api.openweathermap.org/data/2.5/weather?q=kuah,my&units=imperial&APPID=06380c949aec90a798561052e0fbd015\n",
      "City: Hobyo. http://api.openweathermap.org/data/2.5/weather?q=hobyo,so&units=imperial&APPID=06380c949aec90a798561052e0fbd015\n",
      "City: Strezhevoy. http://api.openweathermap.org/data/2.5/weather?q=strezhevoy,ru&units=imperial&APPID=06380c949aec90a798561052e0fbd015\n",
      "City: Mayo. http://api.openweathermap.org/data/2.5/weather?q=mayo,ca&units=imperial&APPID=06380c949aec90a798561052e0fbd015\n"
     ]
    },
    {
     "name": "stdout",
     "output_type": "stream",
     "text": [
      "City: Oranjemund. http://api.openweathermap.org/data/2.5/weather?q=oranjemund,na&units=imperial&APPID=06380c949aec90a798561052e0fbd015\n",
      "City: Busselton. http://api.openweathermap.org/data/2.5/weather?q=busselton,au&units=imperial&APPID=06380c949aec90a798561052e0fbd015\n",
      "City: Ushuaia. http://api.openweathermap.org/data/2.5/weather?q=ushuaia,ar&units=imperial&APPID=06380c949aec90a798561052e0fbd015\n",
      "City: Lavrentiya. http://api.openweathermap.org/data/2.5/weather?q=lavrentiya,ru&units=imperial&APPID=06380c949aec90a798561052e0fbd015\n",
      "City: Villablino. http://api.openweathermap.org/data/2.5/weather?q=villablino,es&units=imperial&APPID=06380c949aec90a798561052e0fbd015\n",
      "City: Inverness. http://api.openweathermap.org/data/2.5/weather?q=inverness,ca&units=imperial&APPID=06380c949aec90a798561052e0fbd015\n",
      "City: Nam Som. http://api.openweathermap.org/data/2.5/weather?q=nam som,th&units=imperial&APPID=06380c949aec90a798561052e0fbd015\n",
      "City: Nikolskoye. http://api.openweathermap.org/data/2.5/weather?q=nikolskoye,ru&units=imperial&APPID=06380c949aec90a798561052e0fbd015\n",
      "City: Kapit. http://api.openweathermap.org/data/2.5/weather?q=kapit,my&units=imperial&APPID=06380c949aec90a798561052e0fbd015\n",
      "City: Narsaq. http://api.openweathermap.org/data/2.5/weather?q=narsaq,gl&units=imperial&APPID=06380c949aec90a798561052e0fbd015\n",
      "City: Mareeba. http://api.openweathermap.org/data/2.5/weather?q=mareeba,au&units=imperial&APPID=06380c949aec90a798561052e0fbd015\n",
      "City: Erenhot. http://api.openweathermap.org/data/2.5/weather?q=erenhot,cn&units=imperial&APPID=06380c949aec90a798561052e0fbd015\n",
      "City: Raudeberg. http://api.openweathermap.org/data/2.5/weather?q=raudeberg,no&units=imperial&APPID=06380c949aec90a798561052e0fbd015\n",
      "City: Rikitea. http://api.openweathermap.org/data/2.5/weather?q=rikitea,pf&units=imperial&APPID=06380c949aec90a798561052e0fbd015\n",
      "City: Omboue. http://api.openweathermap.org/data/2.5/weather?q=omboue,ga&units=imperial&APPID=06380c949aec90a798561052e0fbd015\n",
      "City: Labytnangi. http://api.openweathermap.org/data/2.5/weather?q=labytnangi,ru&units=imperial&APPID=06380c949aec90a798561052e0fbd015\n",
      "City: Husavik. http://api.openweathermap.org/data/2.5/weather?q=husavik,is&units=imperial&APPID=06380c949aec90a798561052e0fbd015\n",
      "City: Souillac. http://api.openweathermap.org/data/2.5/weather?q=souillac,mu&units=imperial&APPID=06380c949aec90a798561052e0fbd015\n",
      "City: Coihaique. http://api.openweathermap.org/data/2.5/weather?q=coihaique,cl&units=imperial&APPID=06380c949aec90a798561052e0fbd015\n",
      "City: Thompson. http://api.openweathermap.org/data/2.5/weather?q=thompson,ca&units=imperial&APPID=06380c949aec90a798561052e0fbd015\n",
      "City: Bluff. http://api.openweathermap.org/data/2.5/weather?q=bluff,nz&units=imperial&APPID=06380c949aec90a798561052e0fbd015\n",
      "City: Muroto. http://api.openweathermap.org/data/2.5/weather?q=muroto,jp&units=imperial&APPID=06380c949aec90a798561052e0fbd015\n",
      "City: Ushuaia. http://api.openweathermap.org/data/2.5/weather?q=ushuaia,ar&units=imperial&APPID=06380c949aec90a798561052e0fbd015\n",
      "City: Saint-Pierre. http://api.openweathermap.org/data/2.5/weather?q=saint-pierre,pm&units=imperial&APPID=06380c949aec90a798561052e0fbd015\n",
      "City: Mandera. http://api.openweathermap.org/data/2.5/weather?q=mandera,ke&units=imperial&APPID=06380c949aec90a798561052e0fbd015\n",
      "City: Jamestown. http://api.openweathermap.org/data/2.5/weather?q=jamestown,sh&units=imperial&APPID=06380c949aec90a798561052e0fbd015\n",
      "City: Atherton. http://api.openweathermap.org/data/2.5/weather?q=atherton,au&units=imperial&APPID=06380c949aec90a798561052e0fbd015\n",
      "City: Tasiilaq. http://api.openweathermap.org/data/2.5/weather?q=tasiilaq,gl&units=imperial&APPID=06380c949aec90a798561052e0fbd015\n",
      "City: Coquimbo. http://api.openweathermap.org/data/2.5/weather?q=coquimbo,cl&units=imperial&APPID=06380c949aec90a798561052e0fbd015\n",
      "City: Busselton. http://api.openweathermap.org/data/2.5/weather?q=busselton,au&units=imperial&APPID=06380c949aec90a798561052e0fbd015\n",
      "City: Salvador. http://api.openweathermap.org/data/2.5/weather?q=salvador,br&units=imperial&APPID=06380c949aec90a798561052e0fbd015\n",
      "City: Krasnyy Chikoy. http://api.openweathermap.org/data/2.5/weather?q=krasnyy chikoy,ru&units=imperial&APPID=06380c949aec90a798561052e0fbd015\n",
      "City: Rikitea. http://api.openweathermap.org/data/2.5/weather?q=rikitea,pf&units=imperial&APPID=06380c949aec90a798561052e0fbd015\n",
      "City: Kitui. http://api.openweathermap.org/data/2.5/weather?q=kitui,ke&units=imperial&APPID=06380c949aec90a798561052e0fbd015\n",
      "City: Surt. http://api.openweathermap.org/data/2.5/weather?q=surt,ly&units=imperial&APPID=06380c949aec90a798561052e0fbd015\n",
      "City: Husavik. http://api.openweathermap.org/data/2.5/weather?q=husavik,is&units=imperial&APPID=06380c949aec90a798561052e0fbd015\n",
      "City: Kapaa. http://api.openweathermap.org/data/2.5/weather?q=kapaa,us&units=imperial&APPID=06380c949aec90a798561052e0fbd015\n",
      "City: Vao. http://api.openweathermap.org/data/2.5/weather?q=vao,nc&units=imperial&APPID=06380c949aec90a798561052e0fbd015\n",
      "City: Bredasdorp. http://api.openweathermap.org/data/2.5/weather?q=bredasdorp,za&units=imperial&APPID=06380c949aec90a798561052e0fbd015\n",
      "City: Te Anau. http://api.openweathermap.org/data/2.5/weather?q=te anau,nz&units=imperial&APPID=06380c949aec90a798561052e0fbd015\n",
      "City: Dilla. http://api.openweathermap.org/data/2.5/weather?q=dilla,et&units=imperial&APPID=06380c949aec90a798561052e0fbd015\n",
      "City: Gotemba. http://api.openweathermap.org/data/2.5/weather?q=gotemba,jp&units=imperial&APPID=06380c949aec90a798561052e0fbd015\n",
      "City: Avarua. http://api.openweathermap.org/data/2.5/weather?q=avarua,ck&units=imperial&APPID=06380c949aec90a798561052e0fbd015\n",
      "City: Bluff. http://api.openweathermap.org/data/2.5/weather?q=bluff,nz&units=imperial&APPID=06380c949aec90a798561052e0fbd015\n",
      "City: Tiksi. http://api.openweathermap.org/data/2.5/weather?q=tiksi,ru&units=imperial&APPID=06380c949aec90a798561052e0fbd015\n",
      "City: Hobyo. http://api.openweathermap.org/data/2.5/weather?q=hobyo,so&units=imperial&APPID=06380c949aec90a798561052e0fbd015\n",
      "City: Torbay. http://api.openweathermap.org/data/2.5/weather?q=torbay,ca&units=imperial&APPID=06380c949aec90a798561052e0fbd015\n",
      "City: Vila Velha. http://api.openweathermap.org/data/2.5/weather?q=vila velha,br&units=imperial&APPID=06380c949aec90a798561052e0fbd015\n",
      "City: Severo-Kurilsk. http://api.openweathermap.org/data/2.5/weather?q=severo-kurilsk,ru&units=imperial&APPID=06380c949aec90a798561052e0fbd015\n",
      "City: San Andres. http://api.openweathermap.org/data/2.5/weather?q=san andres,co&units=imperial&APPID=06380c949aec90a798561052e0fbd015\n",
      "City: Bluff. http://api.openweathermap.org/data/2.5/weather?q=bluff,nz&units=imperial&APPID=06380c949aec90a798561052e0fbd015\n",
      "City: Busselton. http://api.openweathermap.org/data/2.5/weather?q=busselton,au&units=imperial&APPID=06380c949aec90a798561052e0fbd015\n",
      "City: Hermanus. http://api.openweathermap.org/data/2.5/weather?q=hermanus,za&units=imperial&APPID=06380c949aec90a798561052e0fbd015\n",
      "City: Rikitea. http://api.openweathermap.org/data/2.5/weather?q=rikitea,pf&units=imperial&APPID=06380c949aec90a798561052e0fbd015\n",
      "City: Egvekinot. http://api.openweathermap.org/data/2.5/weather?q=egvekinot,ru&units=imperial&APPID=06380c949aec90a798561052e0fbd015\n",
      "City: Saint-Philippe. http://api.openweathermap.org/data/2.5/weather?q=saint-philippe,re&units=imperial&APPID=06380c949aec90a798561052e0fbd015\n",
      "City: Jamestown. http://api.openweathermap.org/data/2.5/weather?q=jamestown,sh&units=imperial&APPID=06380c949aec90a798561052e0fbd015\n",
      "City: Dikson. http://api.openweathermap.org/data/2.5/weather?q=dikson,ru&units=imperial&APPID=06380c949aec90a798561052e0fbd015\n",
      "City: Omboue. http://api.openweathermap.org/data/2.5/weather?q=omboue,ga&units=imperial&APPID=06380c949aec90a798561052e0fbd015\n",
      "City: Khatanga. http://api.openweathermap.org/data/2.5/weather?q=khatanga,ru&units=imperial&APPID=06380c949aec90a798561052e0fbd015\n",
      "City: Mahebourg. http://api.openweathermap.org/data/2.5/weather?q=mahebourg,mu&units=imperial&APPID=06380c949aec90a798561052e0fbd015\n",
      "City: Puerto Ayora. http://api.openweathermap.org/data/2.5/weather?q=puerto ayora,ec&units=imperial&APPID=06380c949aec90a798561052e0fbd015\n",
      "City: Ushuaia. http://api.openweathermap.org/data/2.5/weather?q=ushuaia,ar&units=imperial&APPID=06380c949aec90a798561052e0fbd015\n"
     ]
    },
    {
     "name": "stdout",
     "output_type": "stream",
     "text": [
      "City: Buala. http://api.openweathermap.org/data/2.5/weather?q=buala,sb&units=imperial&APPID=06380c949aec90a798561052e0fbd015\n",
      "City: Atuona. http://api.openweathermap.org/data/2.5/weather?q=atuona,pf&units=imperial&APPID=06380c949aec90a798561052e0fbd015\n",
      "City: Marawi. http://api.openweathermap.org/data/2.5/weather?q=marawi,sd&units=imperial&APPID=06380c949aec90a798561052e0fbd015\n",
      "City: Kununurra. http://api.openweathermap.org/data/2.5/weather?q=kununurra,au&units=imperial&APPID=06380c949aec90a798561052e0fbd015\n",
      "City: Anyang. http://api.openweathermap.org/data/2.5/weather?q=anyang,cn&units=imperial&APPID=06380c949aec90a798561052e0fbd015\n",
      "City: Georgetown. http://api.openweathermap.org/data/2.5/weather?q=georgetown,sh&units=imperial&APPID=06380c949aec90a798561052e0fbd015\n",
      "City: Narsaq. http://api.openweathermap.org/data/2.5/weather?q=narsaq,gl&units=imperial&APPID=06380c949aec90a798561052e0fbd015\n",
      "City: Angra dos Reis. http://api.openweathermap.org/data/2.5/weather?q=angra dos reis,br&units=imperial&APPID=06380c949aec90a798561052e0fbd015\n",
      "City: Provideniya. http://api.openweathermap.org/data/2.5/weather?q=provideniya,ru&units=imperial&APPID=06380c949aec90a798561052e0fbd015\n",
      "City: Butaritari. http://api.openweathermap.org/data/2.5/weather?q=butaritari,ki&units=imperial&APPID=06380c949aec90a798561052e0fbd015\n",
      "City: Khao Wong. http://api.openweathermap.org/data/2.5/weather?q=khao wong,th&units=imperial&APPID=06380c949aec90a798561052e0fbd015\n",
      "City: Hobart. http://api.openweathermap.org/data/2.5/weather?q=hobart,au&units=imperial&APPID=06380c949aec90a798561052e0fbd015\n",
      "City: Shimoda. http://api.openweathermap.org/data/2.5/weather?q=shimoda,jp&units=imperial&APPID=06380c949aec90a798561052e0fbd015\n",
      "City: Lebu. http://api.openweathermap.org/data/2.5/weather?q=lebu,cl&units=imperial&APPID=06380c949aec90a798561052e0fbd015\n",
      "City: New Norfolk. http://api.openweathermap.org/data/2.5/weather?q=new norfolk,au&units=imperial&APPID=06380c949aec90a798561052e0fbd015\n",
      "City: Jamestown. http://api.openweathermap.org/data/2.5/weather?q=jamestown,sh&units=imperial&APPID=06380c949aec90a798561052e0fbd015\n",
      "City: Sao Filipe. http://api.openweathermap.org/data/2.5/weather?q=sao filipe,cv&units=imperial&APPID=06380c949aec90a798561052e0fbd015\n",
      "City: Busselton. http://api.openweathermap.org/data/2.5/weather?q=busselton,au&units=imperial&APPID=06380c949aec90a798561052e0fbd015\n",
      "City: Rikitea. http://api.openweathermap.org/data/2.5/weather?q=rikitea,pf&units=imperial&APPID=06380c949aec90a798561052e0fbd015\n",
      "City: Camabatela. http://api.openweathermap.org/data/2.5/weather?q=camabatela,ao&units=imperial&APPID=06380c949aec90a798561052e0fbd015\n",
      "City: Axim. http://api.openweathermap.org/data/2.5/weather?q=axim,gh&units=imperial&APPID=06380c949aec90a798561052e0fbd015\n",
      "City: Plettenberg Bay. http://api.openweathermap.org/data/2.5/weather?q=plettenberg bay,za&units=imperial&APPID=06380c949aec90a798561052e0fbd015\n",
      "City: Bluff. http://api.openweathermap.org/data/2.5/weather?q=bluff,nz&units=imperial&APPID=06380c949aec90a798561052e0fbd015\n",
      "City: Nova Floresta. http://api.openweathermap.org/data/2.5/weather?q=nova floresta,br&units=imperial&APPID=06380c949aec90a798561052e0fbd015\n",
      "City: Avarua. http://api.openweathermap.org/data/2.5/weather?q=avarua,ck&units=imperial&APPID=06380c949aec90a798561052e0fbd015\n",
      "City: Ilulissat. http://api.openweathermap.org/data/2.5/weather?q=ilulissat,gl&units=imperial&APPID=06380c949aec90a798561052e0fbd015\n",
      "City: Boyolali. http://api.openweathermap.org/data/2.5/weather?q=boyolali,id&units=imperial&APPID=06380c949aec90a798561052e0fbd015\n",
      "City: Terney. http://api.openweathermap.org/data/2.5/weather?q=terney,ru&units=imperial&APPID=06380c949aec90a798561052e0fbd015\n",
      "City: Rikitea. http://api.openweathermap.org/data/2.5/weather?q=rikitea,pf&units=imperial&APPID=06380c949aec90a798561052e0fbd015\n",
      "City: Ilulissat. http://api.openweathermap.org/data/2.5/weather?q=ilulissat,gl&units=imperial&APPID=06380c949aec90a798561052e0fbd015\n",
      "City: Busselton. http://api.openweathermap.org/data/2.5/weather?q=busselton,au&units=imperial&APPID=06380c949aec90a798561052e0fbd015\n",
      "City: East London. http://api.openweathermap.org/data/2.5/weather?q=east london,za&units=imperial&APPID=06380c949aec90a798561052e0fbd015\n",
      "City: Batagay-Alyta. http://api.openweathermap.org/data/2.5/weather?q=batagay-alyta,ru&units=imperial&APPID=06380c949aec90a798561052e0fbd015\n",
      "City: Albany. http://api.openweathermap.org/data/2.5/weather?q=albany,au&units=imperial&APPID=06380c949aec90a798561052e0fbd015\n",
      "City: Ixtapa. http://api.openweathermap.org/data/2.5/weather?q=ixtapa,mx&units=imperial&APPID=06380c949aec90a798561052e0fbd015\n",
      "City: Jamestown. http://api.openweathermap.org/data/2.5/weather?q=jamestown,sh&units=imperial&APPID=06380c949aec90a798561052e0fbd015\n",
      "City: Yumen. http://api.openweathermap.org/data/2.5/weather?q=yumen,cn&units=imperial&APPID=06380c949aec90a798561052e0fbd015\n",
      "City: Yenagoa. http://api.openweathermap.org/data/2.5/weather?q=yenagoa,ng&units=imperial&APPID=06380c949aec90a798561052e0fbd015\n",
      "City: Luena. http://api.openweathermap.org/data/2.5/weather?q=luena,ao&units=imperial&APPID=06380c949aec90a798561052e0fbd015\n",
      "City: Ahipara. http://api.openweathermap.org/data/2.5/weather?q=ahipara,nz&units=imperial&APPID=06380c949aec90a798561052e0fbd015\n",
      "City: Sitka. http://api.openweathermap.org/data/2.5/weather?q=sitka,us&units=imperial&APPID=06380c949aec90a798561052e0fbd015\n",
      "City: Ushuaia. http://api.openweathermap.org/data/2.5/weather?q=ushuaia,ar&units=imperial&APPID=06380c949aec90a798561052e0fbd015\n",
      "City: Babylon. http://api.openweathermap.org/data/2.5/weather?q=babylon,us&units=imperial&APPID=06380c949aec90a798561052e0fbd015\n",
      "City: Ushuaia. http://api.openweathermap.org/data/2.5/weather?q=ushuaia,ar&units=imperial&APPID=06380c949aec90a798561052e0fbd015\n",
      "City: Los Llanos de Aridane. http://api.openweathermap.org/data/2.5/weather?q=los llanos de aridane,es&units=imperial&APPID=06380c949aec90a798561052e0fbd015\n",
      "City: Chokurdakh. http://api.openweathermap.org/data/2.5/weather?q=chokurdakh,ru&units=imperial&APPID=06380c949aec90a798561052e0fbd015\n",
      "City: Shache. http://api.openweathermap.org/data/2.5/weather?q=shache,cn&units=imperial&APPID=06380c949aec90a798561052e0fbd015\n",
      "City: Alekseyevsk. http://api.openweathermap.org/data/2.5/weather?q=alekseyevsk,ru&units=imperial&APPID=06380c949aec90a798561052e0fbd015\n",
      "City: El Estor. http://api.openweathermap.org/data/2.5/weather?q=el estor,gt&units=imperial&APPID=06380c949aec90a798561052e0fbd015\n",
      "City: Barrow. http://api.openweathermap.org/data/2.5/weather?q=barrow,us&units=imperial&APPID=06380c949aec90a798561052e0fbd015\n",
      "City: Tortoli. http://api.openweathermap.org/data/2.5/weather?q=tortoli,it&units=imperial&APPID=06380c949aec90a798561052e0fbd015\n",
      "City: Saint-Philippe. http://api.openweathermap.org/data/2.5/weather?q=saint-philippe,re&units=imperial&APPID=06380c949aec90a798561052e0fbd015\n",
      "City: Tarko-Sale. http://api.openweathermap.org/data/2.5/weather?q=tarko-sale,ru&units=imperial&APPID=06380c949aec90a798561052e0fbd015\n",
      "City: Aykhal. http://api.openweathermap.org/data/2.5/weather?q=aykhal,ru&units=imperial&APPID=06380c949aec90a798561052e0fbd015\n",
      "City: Rikitea. http://api.openweathermap.org/data/2.5/weather?q=rikitea,pf&units=imperial&APPID=06380c949aec90a798561052e0fbd015\n",
      "City: Riyadh. http://api.openweathermap.org/data/2.5/weather?q=riyadh,sa&units=imperial&APPID=06380c949aec90a798561052e0fbd015\n",
      "City: Hobart. http://api.openweathermap.org/data/2.5/weather?q=hobart,au&units=imperial&APPID=06380c949aec90a798561052e0fbd015\n",
      "City: Vaini. http://api.openweathermap.org/data/2.5/weather?q=vaini,to&units=imperial&APPID=06380c949aec90a798561052e0fbd015\n",
      "City: Punta Arenas. http://api.openweathermap.org/data/2.5/weather?q=punta arenas,cl&units=imperial&APPID=06380c949aec90a798561052e0fbd015\n",
      "City: Zhuhai. http://api.openweathermap.org/data/2.5/weather?q=zhuhai,cn&units=imperial&APPID=06380c949aec90a798561052e0fbd015\n",
      "City: Haimen. http://api.openweathermap.org/data/2.5/weather?q=haimen,cn&units=imperial&APPID=06380c949aec90a798561052e0fbd015\n",
      "City: Ushuaia. http://api.openweathermap.org/data/2.5/weather?q=ushuaia,ar&units=imperial&APPID=06380c949aec90a798561052e0fbd015\n",
      "City: Mokhsogollokh. http://api.openweathermap.org/data/2.5/weather?q=mokhsogollokh,ru&units=imperial&APPID=06380c949aec90a798561052e0fbd015\n"
     ]
    },
    {
     "name": "stdout",
     "output_type": "stream",
     "text": [
      "City: Marawi. http://api.openweathermap.org/data/2.5/weather?q=marawi,sd&units=imperial&APPID=06380c949aec90a798561052e0fbd015\n",
      "City: Jamestown. http://api.openweathermap.org/data/2.5/weather?q=jamestown,sh&units=imperial&APPID=06380c949aec90a798561052e0fbd015\n",
      "City: Port Elizabeth. http://api.openweathermap.org/data/2.5/weather?q=port elizabeth,za&units=imperial&APPID=06380c949aec90a798561052e0fbd015\n",
      "City: Cap Malheureux. http://api.openweathermap.org/data/2.5/weather?q=cap malheureux,mu&units=imperial&APPID=06380c949aec90a798561052e0fbd015\n",
      "City: Sao Filipe. http://api.openweathermap.org/data/2.5/weather?q=sao filipe,cv&units=imperial&APPID=06380c949aec90a798561052e0fbd015\n",
      "City: Te Anau. http://api.openweathermap.org/data/2.5/weather?q=te anau,nz&units=imperial&APPID=06380c949aec90a798561052e0fbd015\n",
      "City: Dikson. http://api.openweathermap.org/data/2.5/weather?q=dikson,ru&units=imperial&APPID=06380c949aec90a798561052e0fbd015\n",
      "City: Bluff. http://api.openweathermap.org/data/2.5/weather?q=bluff,nz&units=imperial&APPID=06380c949aec90a798561052e0fbd015\n",
      "City: Vila Franca do Campo. http://api.openweathermap.org/data/2.5/weather?q=vila franca do campo,pt&units=imperial&APPID=06380c949aec90a798561052e0fbd015\n",
      "City: Albany. http://api.openweathermap.org/data/2.5/weather?q=albany,au&units=imperial&APPID=06380c949aec90a798561052e0fbd015\n",
      "City: Kudahuvadhoo. http://api.openweathermap.org/data/2.5/weather?q=kudahuvadhoo,mv&units=imperial&APPID=06380c949aec90a798561052e0fbd015\n",
      "City: Provideniya. http://api.openweathermap.org/data/2.5/weather?q=provideniya,ru&units=imperial&APPID=06380c949aec90a798561052e0fbd015\n",
      "City: Orlik. http://api.openweathermap.org/data/2.5/weather?q=orlik,ru&units=imperial&APPID=06380c949aec90a798561052e0fbd015\n",
      "City: Albany. http://api.openweathermap.org/data/2.5/weather?q=albany,au&units=imperial&APPID=06380c949aec90a798561052e0fbd015\n",
      "City: Dillon. http://api.openweathermap.org/data/2.5/weather?q=dillon,us&units=imperial&APPID=06380c949aec90a798561052e0fbd015\n",
      "City: Peniche. http://api.openweathermap.org/data/2.5/weather?q=peniche,pt&units=imperial&APPID=06380c949aec90a798561052e0fbd015\n",
      "City: Saskylakh. http://api.openweathermap.org/data/2.5/weather?q=saskylakh,ru&units=imperial&APPID=06380c949aec90a798561052e0fbd015\n",
      "City: Kavaratti. http://api.openweathermap.org/data/2.5/weather?q=kavaratti,in&units=imperial&APPID=06380c949aec90a798561052e0fbd015\n",
      "City: Saint-Francois. http://api.openweathermap.org/data/2.5/weather?q=saint-francois,gp&units=imperial&APPID=06380c949aec90a798561052e0fbd015\n",
      "City: Eyl. http://api.openweathermap.org/data/2.5/weather?q=eyl,so&units=imperial&APPID=06380c949aec90a798561052e0fbd015\n",
      "City: Atuona. http://api.openweathermap.org/data/2.5/weather?q=atuona,pf&units=imperial&APPID=06380c949aec90a798561052e0fbd015\n",
      "City: Varkkallai. http://api.openweathermap.org/data/2.5/weather?q=varkkallai,in&units=imperial&APPID=06380c949aec90a798561052e0fbd015\n",
      "City: Qaanaaq. http://api.openweathermap.org/data/2.5/weather?q=qaanaaq,gl&units=imperial&APPID=06380c949aec90a798561052e0fbd015\n",
      "City: Lompoc. http://api.openweathermap.org/data/2.5/weather?q=lompoc,us&units=imperial&APPID=06380c949aec90a798561052e0fbd015\n",
      "City: Tiksi. http://api.openweathermap.org/data/2.5/weather?q=tiksi,ru&units=imperial&APPID=06380c949aec90a798561052e0fbd015\n",
      "City: Dikson. http://api.openweathermap.org/data/2.5/weather?q=dikson,ru&units=imperial&APPID=06380c949aec90a798561052e0fbd015\n",
      "City: Tadine. http://api.openweathermap.org/data/2.5/weather?q=tadine,nc&units=imperial&APPID=06380c949aec90a798561052e0fbd015\n",
      "City: Rikitea. http://api.openweathermap.org/data/2.5/weather?q=rikitea,pf&units=imperial&APPID=06380c949aec90a798561052e0fbd015\n",
      "City: La Libertad. http://api.openweathermap.org/data/2.5/weather?q=la libertad,sv&units=imperial&APPID=06380c949aec90a798561052e0fbd015\n",
      "City: Tuatapere. http://api.openweathermap.org/data/2.5/weather?q=tuatapere,nz&units=imperial&APPID=06380c949aec90a798561052e0fbd015\n",
      "City: Kodiak. http://api.openweathermap.org/data/2.5/weather?q=kodiak,us&units=imperial&APPID=06380c949aec90a798561052e0fbd015\n",
      "City: Rikitea. http://api.openweathermap.org/data/2.5/weather?q=rikitea,pf&units=imperial&APPID=06380c949aec90a798561052e0fbd015\n",
      "City: Galesong. http://api.openweathermap.org/data/2.5/weather?q=galesong,id&units=imperial&APPID=06380c949aec90a798561052e0fbd015\n",
      "City: Hermanus. http://api.openweathermap.org/data/2.5/weather?q=hermanus,za&units=imperial&APPID=06380c949aec90a798561052e0fbd015\n",
      "City: Kodinsk. http://api.openweathermap.org/data/2.5/weather?q=kodinsk,ru&units=imperial&APPID=06380c949aec90a798561052e0fbd015\n",
      "City: Hermanus. http://api.openweathermap.org/data/2.5/weather?q=hermanus,za&units=imperial&APPID=06380c949aec90a798561052e0fbd015\n",
      "City: Rabo de Peixe. http://api.openweathermap.org/data/2.5/weather?q=rabo de peixe,pt&units=imperial&APPID=06380c949aec90a798561052e0fbd015\n",
      "City: Ushuaia. http://api.openweathermap.org/data/2.5/weather?q=ushuaia,ar&units=imperial&APPID=06380c949aec90a798561052e0fbd015\n",
      "City: Charleston. http://api.openweathermap.org/data/2.5/weather?q=charleston,us&units=imperial&APPID=06380c949aec90a798561052e0fbd015\n",
      "City: Mar del Plata. http://api.openweathermap.org/data/2.5/weather?q=mar del plata,ar&units=imperial&APPID=06380c949aec90a798561052e0fbd015\n",
      "City: Butaritari. http://api.openweathermap.org/data/2.5/weather?q=butaritari,ki&units=imperial&APPID=06380c949aec90a798561052e0fbd015\n",
      "City: Ushuaia. http://api.openweathermap.org/data/2.5/weather?q=ushuaia,ar&units=imperial&APPID=06380c949aec90a798561052e0fbd015\n",
      "City: Jamestown. http://api.openweathermap.org/data/2.5/weather?q=jamestown,sh&units=imperial&APPID=06380c949aec90a798561052e0fbd015\n",
      "City: Albany. http://api.openweathermap.org/data/2.5/weather?q=albany,au&units=imperial&APPID=06380c949aec90a798561052e0fbd015\n",
      "City: Makakilo City. http://api.openweathermap.org/data/2.5/weather?q=makakilo city,us&units=imperial&APPID=06380c949aec90a798561052e0fbd015\n",
      "City: Avarua. http://api.openweathermap.org/data/2.5/weather?q=avarua,ck&units=imperial&APPID=06380c949aec90a798561052e0fbd015\n",
      "City: Hamilton. http://api.openweathermap.org/data/2.5/weather?q=hamilton,bm&units=imperial&APPID=06380c949aec90a798561052e0fbd015\n",
      "City: Dikson. http://api.openweathermap.org/data/2.5/weather?q=dikson,ru&units=imperial&APPID=06380c949aec90a798561052e0fbd015\n",
      "City: Alta Floresta. http://api.openweathermap.org/data/2.5/weather?q=alta floresta,br&units=imperial&APPID=06380c949aec90a798561052e0fbd015\n",
      "City: Hobart. http://api.openweathermap.org/data/2.5/weather?q=hobart,au&units=imperial&APPID=06380c949aec90a798561052e0fbd015\n",
      "City: Camacha. http://api.openweathermap.org/data/2.5/weather?q=camacha,pt&units=imperial&APPID=06380c949aec90a798561052e0fbd015\n",
      "City: Rikitea. http://api.openweathermap.org/data/2.5/weather?q=rikitea,pf&units=imperial&APPID=06380c949aec90a798561052e0fbd015\n",
      "City: Rikitea. http://api.openweathermap.org/data/2.5/weather?q=rikitea,pf&units=imperial&APPID=06380c949aec90a798561052e0fbd015\n",
      "City: Mahebourg. http://api.openweathermap.org/data/2.5/weather?q=mahebourg,mu&units=imperial&APPID=06380c949aec90a798561052e0fbd015\n",
      "City: Nikolskoye. http://api.openweathermap.org/data/2.5/weather?q=nikolskoye,ru&units=imperial&APPID=06380c949aec90a798561052e0fbd015\n",
      "City: Kapaa. http://api.openweathermap.org/data/2.5/weather?q=kapaa,us&units=imperial&APPID=06380c949aec90a798561052e0fbd015\n",
      "City: Gombong. http://api.openweathermap.org/data/2.5/weather?q=gombong,id&units=imperial&APPID=06380c949aec90a798561052e0fbd015\n",
      "City: Muros. http://api.openweathermap.org/data/2.5/weather?q=muros,es&units=imperial&APPID=06380c949aec90a798561052e0fbd015\n",
      "City: Rikitea. http://api.openweathermap.org/data/2.5/weather?q=rikitea,pf&units=imperial&APPID=06380c949aec90a798561052e0fbd015\n",
      "City: Hilo. http://api.openweathermap.org/data/2.5/weather?q=hilo,us&units=imperial&APPID=06380c949aec90a798561052e0fbd015\n",
      "City: Kudahuvadhoo. http://api.openweathermap.org/data/2.5/weather?q=kudahuvadhoo,mv&units=imperial&APPID=06380c949aec90a798561052e0fbd015\n",
      "City: Bredasdorp. http://api.openweathermap.org/data/2.5/weather?q=bredasdorp,za&units=imperial&APPID=06380c949aec90a798561052e0fbd015\n",
      "City: Severo-Kurilsk. http://api.openweathermap.org/data/2.5/weather?q=severo-kurilsk,ru&units=imperial&APPID=06380c949aec90a798561052e0fbd015\n"
     ]
    },
    {
     "name": "stdout",
     "output_type": "stream",
     "text": [
      "City: Hasaki. http://api.openweathermap.org/data/2.5/weather?q=hasaki,jp&units=imperial&APPID=06380c949aec90a798561052e0fbd015\n",
      "City: Visby. http://api.openweathermap.org/data/2.5/weather?q=visby,se&units=imperial&APPID=06380c949aec90a798561052e0fbd015\n",
      "City: Punta Arenas. http://api.openweathermap.org/data/2.5/weather?q=punta arenas,cl&units=imperial&APPID=06380c949aec90a798561052e0fbd015\n",
      "City: Georgetown. http://api.openweathermap.org/data/2.5/weather?q=georgetown,sh&units=imperial&APPID=06380c949aec90a798561052e0fbd015\n",
      "City: Buique. http://api.openweathermap.org/data/2.5/weather?q=buique,br&units=imperial&APPID=06380c949aec90a798561052e0fbd015\n",
      "City: Timmins. http://api.openweathermap.org/data/2.5/weather?q=timmins,ca&units=imperial&APPID=06380c949aec90a798561052e0fbd015\n",
      "City: Port Elizabeth. http://api.openweathermap.org/data/2.5/weather?q=port elizabeth,za&units=imperial&APPID=06380c949aec90a798561052e0fbd015\n",
      "City: Carnarvon. http://api.openweathermap.org/data/2.5/weather?q=carnarvon,au&units=imperial&APPID=06380c949aec90a798561052e0fbd015\n",
      "City: Lavrentiya. http://api.openweathermap.org/data/2.5/weather?q=lavrentiya,ru&units=imperial&APPID=06380c949aec90a798561052e0fbd015\n",
      "City: Bangassou. http://api.openweathermap.org/data/2.5/weather?q=bangassou,cf&units=imperial&APPID=06380c949aec90a798561052e0fbd015\n",
      "City: Rikitea. http://api.openweathermap.org/data/2.5/weather?q=rikitea,pf&units=imperial&APPID=06380c949aec90a798561052e0fbd015\n",
      "City: Neiafu. http://api.openweathermap.org/data/2.5/weather?q=neiafu,to&units=imperial&APPID=06380c949aec90a798561052e0fbd015\n",
      "City: Andros. http://api.openweathermap.org/data/2.5/weather?q=andros,gr&units=imperial&APPID=06380c949aec90a798561052e0fbd015\n",
      "City: Saskylakh. http://api.openweathermap.org/data/2.5/weather?q=saskylakh,ru&units=imperial&APPID=06380c949aec90a798561052e0fbd015\n",
      "City: Vaini. http://api.openweathermap.org/data/2.5/weather?q=vaini,to&units=imperial&APPID=06380c949aec90a798561052e0fbd015\n",
      "City: Vizinga. http://api.openweathermap.org/data/2.5/weather?q=vizinga,ru&units=imperial&APPID=06380c949aec90a798561052e0fbd015\n",
      "City: San Cristobal. http://api.openweathermap.org/data/2.5/weather?q=san cristobal,ec&units=imperial&APPID=06380c949aec90a798561052e0fbd015\n",
      "City: Shimoda. http://api.openweathermap.org/data/2.5/weather?q=shimoda,jp&units=imperial&APPID=06380c949aec90a798561052e0fbd015\n",
      "City: Rikitea. http://api.openweathermap.org/data/2.5/weather?q=rikitea,pf&units=imperial&APPID=06380c949aec90a798561052e0fbd015\n",
      "City: Kapaa. http://api.openweathermap.org/data/2.5/weather?q=kapaa,us&units=imperial&APPID=06380c949aec90a798561052e0fbd015\n",
      "City: Hovd. http://api.openweathermap.org/data/2.5/weather?q=hovd,mn&units=imperial&APPID=06380c949aec90a798561052e0fbd015\n",
      "City: Jamestown. http://api.openweathermap.org/data/2.5/weather?q=jamestown,sh&units=imperial&APPID=06380c949aec90a798561052e0fbd015\n",
      "City: Trairi. http://api.openweathermap.org/data/2.5/weather?q=trairi,br&units=imperial&APPID=06380c949aec90a798561052e0fbd015\n",
      "City: Bambous Virieux. http://api.openweathermap.org/data/2.5/weather?q=bambous virieux,mu&units=imperial&APPID=06380c949aec90a798561052e0fbd015\n",
      "City: Mulege. http://api.openweathermap.org/data/2.5/weather?q=mulege,mx&units=imperial&APPID=06380c949aec90a798561052e0fbd015\n",
      "City: Puerto Ayora. http://api.openweathermap.org/data/2.5/weather?q=puerto ayora,ec&units=imperial&APPID=06380c949aec90a798561052e0fbd015\n",
      "City: Ushuaia. http://api.openweathermap.org/data/2.5/weather?q=ushuaia,ar&units=imperial&APPID=06380c949aec90a798561052e0fbd015\n",
      "City: Luderitz. http://api.openweathermap.org/data/2.5/weather?q=luderitz,na&units=imperial&APPID=06380c949aec90a798561052e0fbd015\n",
      "City: Chalus. http://api.openweathermap.org/data/2.5/weather?q=chalus,ir&units=imperial&APPID=06380c949aec90a798561052e0fbd015\n",
      "City: Verkhnevilyuysk. http://api.openweathermap.org/data/2.5/weather?q=verkhnevilyuysk,ru&units=imperial&APPID=06380c949aec90a798561052e0fbd015\n",
      "City: Albany. http://api.openweathermap.org/data/2.5/weather?q=albany,au&units=imperial&APPID=06380c949aec90a798561052e0fbd015\n",
      "City: Pajapan. http://api.openweathermap.org/data/2.5/weather?q=pajapan,mx&units=imperial&APPID=06380c949aec90a798561052e0fbd015\n",
      "City: Rikitea. http://api.openweathermap.org/data/2.5/weather?q=rikitea,pf&units=imperial&APPID=06380c949aec90a798561052e0fbd015\n",
      "City: Ushuaia. http://api.openweathermap.org/data/2.5/weather?q=ushuaia,ar&units=imperial&APPID=06380c949aec90a798561052e0fbd015\n",
      "City: Dzaoudzi. http://api.openweathermap.org/data/2.5/weather?q=dzaoudzi,yt&units=imperial&APPID=06380c949aec90a798561052e0fbd015\n",
      "City: Jamestown. http://api.openweathermap.org/data/2.5/weather?q=jamestown,sh&units=imperial&APPID=06380c949aec90a798561052e0fbd015\n",
      "City: Salinopolis. http://api.openweathermap.org/data/2.5/weather?q=salinopolis,br&units=imperial&APPID=06380c949aec90a798561052e0fbd015\n",
      "City: Saskylakh. http://api.openweathermap.org/data/2.5/weather?q=saskylakh,ru&units=imperial&APPID=06380c949aec90a798561052e0fbd015\n",
      "City: Almaznyy. http://api.openweathermap.org/data/2.5/weather?q=almaznyy,ru&units=imperial&APPID=06380c949aec90a798561052e0fbd015\n",
      "City: Busselton. http://api.openweathermap.org/data/2.5/weather?q=busselton,au&units=imperial&APPID=06380c949aec90a798561052e0fbd015\n",
      "City: Albany. http://api.openweathermap.org/data/2.5/weather?q=albany,au&units=imperial&APPID=06380c949aec90a798561052e0fbd015\n"
     ]
    },
    {
     "ename": "ConnectionError",
     "evalue": "HTTPConnectionPool(host='api.openweathermap.org', port=80): Max retries exceeded with url: /data/2.5/weather?q=chuy,uy&units=imperial&APPID=06380c949aec90a798561052e0fbd015 (Caused by NewConnectionError('<urllib3.connection.HTTPConnection object at 0x1a269b58d0>: Failed to establish a new connection: [Errno 50] Network is down'))",
     "output_type": "error",
     "traceback": [
      "\u001b[0;31m---------------------------------------------------------------------------\u001b[0m",
      "\u001b[0;31mOSError\u001b[0m                                   Traceback (most recent call last)",
      "\u001b[0;32m~/anaconda3/lib/python3.7/site-packages/urllib3/connection.py\u001b[0m in \u001b[0;36m_new_conn\u001b[0;34m(self)\u001b[0m\n\u001b[1;32m    170\u001b[0m             conn = connection.create_connection(\n\u001b[0;32m--> 171\u001b[0;31m                 (self._dns_host, self.port), self.timeout, **extra_kw)\n\u001b[0m\u001b[1;32m    172\u001b[0m \u001b[0;34m\u001b[0m\u001b[0m\n",
      "\u001b[0;32m~/anaconda3/lib/python3.7/site-packages/urllib3/util/connection.py\u001b[0m in \u001b[0;36mcreate_connection\u001b[0;34m(address, timeout, source_address, socket_options)\u001b[0m\n\u001b[1;32m     78\u001b[0m     \u001b[0;32mif\u001b[0m \u001b[0merr\u001b[0m \u001b[0;32mis\u001b[0m \u001b[0;32mnot\u001b[0m \u001b[0;32mNone\u001b[0m\u001b[0;34m:\u001b[0m\u001b[0;34m\u001b[0m\u001b[0m\n\u001b[0;32m---> 79\u001b[0;31m         \u001b[0;32mraise\u001b[0m \u001b[0merr\u001b[0m\u001b[0;34m\u001b[0m\u001b[0m\n\u001b[0m\u001b[1;32m     80\u001b[0m \u001b[0;34m\u001b[0m\u001b[0m\n",
      "\u001b[0;32m~/anaconda3/lib/python3.7/site-packages/urllib3/util/connection.py\u001b[0m in \u001b[0;36mcreate_connection\u001b[0;34m(address, timeout, source_address, socket_options)\u001b[0m\n\u001b[1;32m     68\u001b[0m                 \u001b[0msock\u001b[0m\u001b[0;34m.\u001b[0m\u001b[0mbind\u001b[0m\u001b[0;34m(\u001b[0m\u001b[0msource_address\u001b[0m\u001b[0;34m)\u001b[0m\u001b[0;34m\u001b[0m\u001b[0m\n\u001b[0;32m---> 69\u001b[0;31m             \u001b[0msock\u001b[0m\u001b[0;34m.\u001b[0m\u001b[0mconnect\u001b[0m\u001b[0;34m(\u001b[0m\u001b[0msa\u001b[0m\u001b[0;34m)\u001b[0m\u001b[0;34m\u001b[0m\u001b[0m\n\u001b[0m\u001b[1;32m     70\u001b[0m             \u001b[0;32mreturn\u001b[0m \u001b[0msock\u001b[0m\u001b[0;34m\u001b[0m\u001b[0m\n",
      "\u001b[0;31mOSError\u001b[0m: [Errno 50] Network is down",
      "\nDuring handling of the above exception, another exception occurred:\n",
      "\u001b[0;31mNewConnectionError\u001b[0m                        Traceback (most recent call last)",
      "\u001b[0;32m~/anaconda3/lib/python3.7/site-packages/urllib3/connectionpool.py\u001b[0m in \u001b[0;36murlopen\u001b[0;34m(self, method, url, body, headers, retries, redirect, assert_same_host, timeout, pool_timeout, release_conn, chunked, body_pos, **response_kw)\u001b[0m\n\u001b[1;32m    599\u001b[0m                                                   \u001b[0mbody\u001b[0m\u001b[0;34m=\u001b[0m\u001b[0mbody\u001b[0m\u001b[0;34m,\u001b[0m \u001b[0mheaders\u001b[0m\u001b[0;34m=\u001b[0m\u001b[0mheaders\u001b[0m\u001b[0;34m,\u001b[0m\u001b[0;34m\u001b[0m\u001b[0m\n\u001b[0;32m--> 600\u001b[0;31m                                                   chunked=chunked)\n\u001b[0m\u001b[1;32m    601\u001b[0m \u001b[0;34m\u001b[0m\u001b[0m\n",
      "\u001b[0;32m~/anaconda3/lib/python3.7/site-packages/urllib3/connectionpool.py\u001b[0m in \u001b[0;36m_make_request\u001b[0;34m(self, conn, method, url, timeout, chunked, **httplib_request_kw)\u001b[0m\n\u001b[1;32m    353\u001b[0m         \u001b[0;32melse\u001b[0m\u001b[0;34m:\u001b[0m\u001b[0;34m\u001b[0m\u001b[0m\n\u001b[0;32m--> 354\u001b[0;31m             \u001b[0mconn\u001b[0m\u001b[0;34m.\u001b[0m\u001b[0mrequest\u001b[0m\u001b[0;34m(\u001b[0m\u001b[0mmethod\u001b[0m\u001b[0;34m,\u001b[0m \u001b[0murl\u001b[0m\u001b[0;34m,\u001b[0m \u001b[0;34m**\u001b[0m\u001b[0mhttplib_request_kw\u001b[0m\u001b[0;34m)\u001b[0m\u001b[0;34m\u001b[0m\u001b[0m\n\u001b[0m\u001b[1;32m    355\u001b[0m \u001b[0;34m\u001b[0m\u001b[0m\n",
      "\u001b[0;32m~/anaconda3/lib/python3.7/http/client.py\u001b[0m in \u001b[0;36mrequest\u001b[0;34m(self, method, url, body, headers, encode_chunked)\u001b[0m\n\u001b[1;32m   1228\u001b[0m         \u001b[0;34m\"\"\"Send a complete request to the server.\"\"\"\u001b[0m\u001b[0;34m\u001b[0m\u001b[0m\n\u001b[0;32m-> 1229\u001b[0;31m         \u001b[0mself\u001b[0m\u001b[0;34m.\u001b[0m\u001b[0m_send_request\u001b[0m\u001b[0;34m(\u001b[0m\u001b[0mmethod\u001b[0m\u001b[0;34m,\u001b[0m \u001b[0murl\u001b[0m\u001b[0;34m,\u001b[0m \u001b[0mbody\u001b[0m\u001b[0;34m,\u001b[0m \u001b[0mheaders\u001b[0m\u001b[0;34m,\u001b[0m \u001b[0mencode_chunked\u001b[0m\u001b[0;34m)\u001b[0m\u001b[0;34m\u001b[0m\u001b[0m\n\u001b[0m\u001b[1;32m   1230\u001b[0m \u001b[0;34m\u001b[0m\u001b[0m\n",
      "\u001b[0;32m~/anaconda3/lib/python3.7/http/client.py\u001b[0m in \u001b[0;36m_send_request\u001b[0;34m(self, method, url, body, headers, encode_chunked)\u001b[0m\n\u001b[1;32m   1274\u001b[0m             \u001b[0mbody\u001b[0m \u001b[0;34m=\u001b[0m \u001b[0m_encode\u001b[0m\u001b[0;34m(\u001b[0m\u001b[0mbody\u001b[0m\u001b[0;34m,\u001b[0m \u001b[0;34m'body'\u001b[0m\u001b[0;34m)\u001b[0m\u001b[0;34m\u001b[0m\u001b[0m\n\u001b[0;32m-> 1275\u001b[0;31m         \u001b[0mself\u001b[0m\u001b[0;34m.\u001b[0m\u001b[0mendheaders\u001b[0m\u001b[0;34m(\u001b[0m\u001b[0mbody\u001b[0m\u001b[0;34m,\u001b[0m \u001b[0mencode_chunked\u001b[0m\u001b[0;34m=\u001b[0m\u001b[0mencode_chunked\u001b[0m\u001b[0;34m)\u001b[0m\u001b[0;34m\u001b[0m\u001b[0m\n\u001b[0m\u001b[1;32m   1276\u001b[0m \u001b[0;34m\u001b[0m\u001b[0m\n",
      "\u001b[0;32m~/anaconda3/lib/python3.7/http/client.py\u001b[0m in \u001b[0;36mendheaders\u001b[0;34m(self, message_body, encode_chunked)\u001b[0m\n\u001b[1;32m   1223\u001b[0m             \u001b[0;32mraise\u001b[0m \u001b[0mCannotSendHeader\u001b[0m\u001b[0;34m(\u001b[0m\u001b[0;34m)\u001b[0m\u001b[0;34m\u001b[0m\u001b[0m\n\u001b[0;32m-> 1224\u001b[0;31m         \u001b[0mself\u001b[0m\u001b[0;34m.\u001b[0m\u001b[0m_send_output\u001b[0m\u001b[0;34m(\u001b[0m\u001b[0mmessage_body\u001b[0m\u001b[0;34m,\u001b[0m \u001b[0mencode_chunked\u001b[0m\u001b[0;34m=\u001b[0m\u001b[0mencode_chunked\u001b[0m\u001b[0;34m)\u001b[0m\u001b[0;34m\u001b[0m\u001b[0m\n\u001b[0m\u001b[1;32m   1225\u001b[0m \u001b[0;34m\u001b[0m\u001b[0m\n",
      "\u001b[0;32m~/anaconda3/lib/python3.7/http/client.py\u001b[0m in \u001b[0;36m_send_output\u001b[0;34m(self, message_body, encode_chunked)\u001b[0m\n\u001b[1;32m   1015\u001b[0m         \u001b[0;32mdel\u001b[0m \u001b[0mself\u001b[0m\u001b[0;34m.\u001b[0m\u001b[0m_buffer\u001b[0m\u001b[0;34m[\u001b[0m\u001b[0;34m:\u001b[0m\u001b[0;34m]\u001b[0m\u001b[0;34m\u001b[0m\u001b[0m\n\u001b[0;32m-> 1016\u001b[0;31m         \u001b[0mself\u001b[0m\u001b[0;34m.\u001b[0m\u001b[0msend\u001b[0m\u001b[0;34m(\u001b[0m\u001b[0mmsg\u001b[0m\u001b[0;34m)\u001b[0m\u001b[0;34m\u001b[0m\u001b[0m\n\u001b[0m\u001b[1;32m   1017\u001b[0m \u001b[0;34m\u001b[0m\u001b[0m\n",
      "\u001b[0;32m~/anaconda3/lib/python3.7/http/client.py\u001b[0m in \u001b[0;36msend\u001b[0;34m(self, data)\u001b[0m\n\u001b[1;32m    955\u001b[0m             \u001b[0;32mif\u001b[0m \u001b[0mself\u001b[0m\u001b[0;34m.\u001b[0m\u001b[0mauto_open\u001b[0m\u001b[0;34m:\u001b[0m\u001b[0;34m\u001b[0m\u001b[0m\n\u001b[0;32m--> 956\u001b[0;31m                 \u001b[0mself\u001b[0m\u001b[0;34m.\u001b[0m\u001b[0mconnect\u001b[0m\u001b[0;34m(\u001b[0m\u001b[0;34m)\u001b[0m\u001b[0;34m\u001b[0m\u001b[0m\n\u001b[0m\u001b[1;32m    957\u001b[0m             \u001b[0;32melse\u001b[0m\u001b[0;34m:\u001b[0m\u001b[0;34m\u001b[0m\u001b[0m\n",
      "\u001b[0;32m~/anaconda3/lib/python3.7/site-packages/urllib3/connection.py\u001b[0m in \u001b[0;36mconnect\u001b[0;34m(self)\u001b[0m\n\u001b[1;32m    195\u001b[0m     \u001b[0;32mdef\u001b[0m \u001b[0mconnect\u001b[0m\u001b[0;34m(\u001b[0m\u001b[0mself\u001b[0m\u001b[0;34m)\u001b[0m\u001b[0;34m:\u001b[0m\u001b[0;34m\u001b[0m\u001b[0m\n\u001b[0;32m--> 196\u001b[0;31m         \u001b[0mconn\u001b[0m \u001b[0;34m=\u001b[0m \u001b[0mself\u001b[0m\u001b[0;34m.\u001b[0m\u001b[0m_new_conn\u001b[0m\u001b[0;34m(\u001b[0m\u001b[0;34m)\u001b[0m\u001b[0;34m\u001b[0m\u001b[0m\n\u001b[0m\u001b[1;32m    197\u001b[0m         \u001b[0mself\u001b[0m\u001b[0;34m.\u001b[0m\u001b[0m_prepare_conn\u001b[0m\u001b[0;34m(\u001b[0m\u001b[0mconn\u001b[0m\u001b[0;34m)\u001b[0m\u001b[0;34m\u001b[0m\u001b[0m\n",
      "\u001b[0;32m~/anaconda3/lib/python3.7/site-packages/urllib3/connection.py\u001b[0m in \u001b[0;36m_new_conn\u001b[0;34m(self)\u001b[0m\n\u001b[1;32m    179\u001b[0m             raise NewConnectionError(\n\u001b[0;32m--> 180\u001b[0;31m                 self, \"Failed to establish a new connection: %s\" % e)\n\u001b[0m\u001b[1;32m    181\u001b[0m \u001b[0;34m\u001b[0m\u001b[0m\n",
      "\u001b[0;31mNewConnectionError\u001b[0m: <urllib3.connection.HTTPConnection object at 0x1a269b58d0>: Failed to establish a new connection: [Errno 50] Network is down",
      "\nDuring handling of the above exception, another exception occurred:\n",
      "\u001b[0;31mMaxRetryError\u001b[0m                             Traceback (most recent call last)",
      "\u001b[0;32m~/anaconda3/lib/python3.7/site-packages/requests/adapters.py\u001b[0m in \u001b[0;36msend\u001b[0;34m(self, request, stream, timeout, verify, cert, proxies)\u001b[0m\n\u001b[1;32m    448\u001b[0m                     \u001b[0mretries\u001b[0m\u001b[0;34m=\u001b[0m\u001b[0mself\u001b[0m\u001b[0;34m.\u001b[0m\u001b[0mmax_retries\u001b[0m\u001b[0;34m,\u001b[0m\u001b[0;34m\u001b[0m\u001b[0m\n\u001b[0;32m--> 449\u001b[0;31m                     \u001b[0mtimeout\u001b[0m\u001b[0;34m=\u001b[0m\u001b[0mtimeout\u001b[0m\u001b[0;34m\u001b[0m\u001b[0m\n\u001b[0m\u001b[1;32m    450\u001b[0m                 )\n",
      "\u001b[0;32m~/anaconda3/lib/python3.7/site-packages/urllib3/connectionpool.py\u001b[0m in \u001b[0;36murlopen\u001b[0;34m(self, method, url, body, headers, retries, redirect, assert_same_host, timeout, pool_timeout, release_conn, chunked, body_pos, **response_kw)\u001b[0m\n\u001b[1;32m    637\u001b[0m             retries = retries.increment(method, url, error=e, _pool=self,\n\u001b[0;32m--> 638\u001b[0;31m                                         _stacktrace=sys.exc_info()[2])\n\u001b[0m\u001b[1;32m    639\u001b[0m             \u001b[0mretries\u001b[0m\u001b[0;34m.\u001b[0m\u001b[0msleep\u001b[0m\u001b[0;34m(\u001b[0m\u001b[0;34m)\u001b[0m\u001b[0;34m\u001b[0m\u001b[0m\n",
      "\u001b[0;32m~/anaconda3/lib/python3.7/site-packages/urllib3/util/retry.py\u001b[0m in \u001b[0;36mincrement\u001b[0;34m(self, method, url, response, error, _pool, _stacktrace)\u001b[0m\n\u001b[1;32m    397\u001b[0m         \u001b[0;32mif\u001b[0m \u001b[0mnew_retry\u001b[0m\u001b[0;34m.\u001b[0m\u001b[0mis_exhausted\u001b[0m\u001b[0;34m(\u001b[0m\u001b[0;34m)\u001b[0m\u001b[0;34m:\u001b[0m\u001b[0;34m\u001b[0m\u001b[0m\n\u001b[0;32m--> 398\u001b[0;31m             \u001b[0;32mraise\u001b[0m \u001b[0mMaxRetryError\u001b[0m\u001b[0;34m(\u001b[0m\u001b[0m_pool\u001b[0m\u001b[0;34m,\u001b[0m \u001b[0murl\u001b[0m\u001b[0;34m,\u001b[0m \u001b[0merror\u001b[0m \u001b[0;32mor\u001b[0m \u001b[0mResponseError\u001b[0m\u001b[0;34m(\u001b[0m\u001b[0mcause\u001b[0m\u001b[0;34m)\u001b[0m\u001b[0;34m)\u001b[0m\u001b[0;34m\u001b[0m\u001b[0m\n\u001b[0m\u001b[1;32m    399\u001b[0m \u001b[0;34m\u001b[0m\u001b[0m\n",
      "\u001b[0;31mMaxRetryError\u001b[0m: HTTPConnectionPool(host='api.openweathermap.org', port=80): Max retries exceeded with url: /data/2.5/weather?q=chuy,uy&units=imperial&APPID=06380c949aec90a798561052e0fbd015 (Caused by NewConnectionError('<urllib3.connection.HTTPConnection object at 0x1a269b58d0>: Failed to establish a new connection: [Errno 50] Network is down'))",
      "\nDuring handling of the above exception, another exception occurred:\n",
      "\u001b[0;31mConnectionError\u001b[0m                           Traceback (most recent call last)",
      "\u001b[0;32m<ipython-input-8-bb106a07f10d>\u001b[0m in \u001b[0;36m<module>\u001b[0;34m()\u001b[0m\n\u001b[1;32m     20\u001b[0m     \u001b[0;31m# Call Open Weather Map API to obtain data and append it to df\u001b[0m\u001b[0;34m\u001b[0m\u001b[0;34m\u001b[0m\u001b[0m\n\u001b[1;32m     21\u001b[0m     \u001b[0murl\u001b[0m \u001b[0;34m=\u001b[0m \u001b[0mtarget_url\u001b[0m \u001b[0;34m+\u001b[0m \u001b[0mcity_name\u001b[0m \u001b[0;34m+\u001b[0m \u001b[0;34m','\u001b[0m \u001b[0;34m+\u001b[0m \u001b[0mcountry_code\u001b[0m \u001b[0;34m+\u001b[0m \u001b[0;34m'&units='\u001b[0m \u001b[0;34m+\u001b[0m \u001b[0munits\u001b[0m \u001b[0;34m+\u001b[0m \u001b[0;34m'&APPID='\u001b[0m \u001b[0;34m+\u001b[0m \u001b[0mapi_key\u001b[0m\u001b[0;34m\u001b[0m\u001b[0m\n\u001b[0;32m---> 22\u001b[0;31m     \u001b[0mweather_response\u001b[0m \u001b[0;34m=\u001b[0m \u001b[0mrequests\u001b[0m\u001b[0;34m.\u001b[0m\u001b[0mget\u001b[0m\u001b[0;34m(\u001b[0m\u001b[0murl\u001b[0m\u001b[0;34m)\u001b[0m\u001b[0;34m\u001b[0m\u001b[0m\n\u001b[0m\u001b[1;32m     23\u001b[0m     \u001b[0mfile\u001b[0m \u001b[0;34m=\u001b[0m \u001b[0mweather_response\u001b[0m\u001b[0;34m.\u001b[0m\u001b[0mjson\u001b[0m\u001b[0;34m(\u001b[0m\u001b[0;34m)\u001b[0m\u001b[0;34m\u001b[0m\u001b[0m\n\u001b[1;32m     24\u001b[0m     \u001b[0;32mif\u001b[0m \u001b[0mfile\u001b[0m\u001b[0;34m[\u001b[0m\u001b[0;34m\"cod\"\u001b[0m\u001b[0;34m]\u001b[0m \u001b[0;34m==\u001b[0m \u001b[0;36m200\u001b[0m\u001b[0;34m:\u001b[0m\u001b[0;34m\u001b[0m\u001b[0m\n",
      "\u001b[0;32m~/anaconda3/lib/python3.7/site-packages/requests/api.py\u001b[0m in \u001b[0;36mget\u001b[0;34m(url, params, **kwargs)\u001b[0m\n\u001b[1;32m     73\u001b[0m \u001b[0;34m\u001b[0m\u001b[0m\n\u001b[1;32m     74\u001b[0m     \u001b[0mkwargs\u001b[0m\u001b[0;34m.\u001b[0m\u001b[0msetdefault\u001b[0m\u001b[0;34m(\u001b[0m\u001b[0;34m'allow_redirects'\u001b[0m\u001b[0;34m,\u001b[0m \u001b[0;32mTrue\u001b[0m\u001b[0;34m)\u001b[0m\u001b[0;34m\u001b[0m\u001b[0m\n\u001b[0;32m---> 75\u001b[0;31m     \u001b[0;32mreturn\u001b[0m \u001b[0mrequest\u001b[0m\u001b[0;34m(\u001b[0m\u001b[0;34m'get'\u001b[0m\u001b[0;34m,\u001b[0m \u001b[0murl\u001b[0m\u001b[0;34m,\u001b[0m \u001b[0mparams\u001b[0m\u001b[0;34m=\u001b[0m\u001b[0mparams\u001b[0m\u001b[0;34m,\u001b[0m \u001b[0;34m**\u001b[0m\u001b[0mkwargs\u001b[0m\u001b[0;34m)\u001b[0m\u001b[0;34m\u001b[0m\u001b[0m\n\u001b[0m\u001b[1;32m     76\u001b[0m \u001b[0;34m\u001b[0m\u001b[0m\n\u001b[1;32m     77\u001b[0m \u001b[0;34m\u001b[0m\u001b[0m\n",
      "\u001b[0;32m~/anaconda3/lib/python3.7/site-packages/requests/api.py\u001b[0m in \u001b[0;36mrequest\u001b[0;34m(method, url, **kwargs)\u001b[0m\n\u001b[1;32m     58\u001b[0m     \u001b[0;31m# cases, and look like a memory leak in others.\u001b[0m\u001b[0;34m\u001b[0m\u001b[0;34m\u001b[0m\u001b[0m\n\u001b[1;32m     59\u001b[0m     \u001b[0;32mwith\u001b[0m \u001b[0msessions\u001b[0m\u001b[0;34m.\u001b[0m\u001b[0mSession\u001b[0m\u001b[0;34m(\u001b[0m\u001b[0;34m)\u001b[0m \u001b[0;32mas\u001b[0m \u001b[0msession\u001b[0m\u001b[0;34m:\u001b[0m\u001b[0;34m\u001b[0m\u001b[0m\n\u001b[0;32m---> 60\u001b[0;31m         \u001b[0;32mreturn\u001b[0m \u001b[0msession\u001b[0m\u001b[0;34m.\u001b[0m\u001b[0mrequest\u001b[0m\u001b[0;34m(\u001b[0m\u001b[0mmethod\u001b[0m\u001b[0;34m=\u001b[0m\u001b[0mmethod\u001b[0m\u001b[0;34m,\u001b[0m \u001b[0murl\u001b[0m\u001b[0;34m=\u001b[0m\u001b[0murl\u001b[0m\u001b[0;34m,\u001b[0m \u001b[0;34m**\u001b[0m\u001b[0mkwargs\u001b[0m\u001b[0;34m)\u001b[0m\u001b[0;34m\u001b[0m\u001b[0m\n\u001b[0m\u001b[1;32m     61\u001b[0m \u001b[0;34m\u001b[0m\u001b[0m\n\u001b[1;32m     62\u001b[0m \u001b[0;34m\u001b[0m\u001b[0m\n",
      "\u001b[0;32m~/anaconda3/lib/python3.7/site-packages/requests/sessions.py\u001b[0m in \u001b[0;36mrequest\u001b[0;34m(self, method, url, params, data, headers, cookies, files, auth, timeout, allow_redirects, proxies, hooks, stream, verify, cert, json)\u001b[0m\n\u001b[1;32m    531\u001b[0m         }\n\u001b[1;32m    532\u001b[0m         \u001b[0msend_kwargs\u001b[0m\u001b[0;34m.\u001b[0m\u001b[0mupdate\u001b[0m\u001b[0;34m(\u001b[0m\u001b[0msettings\u001b[0m\u001b[0;34m)\u001b[0m\u001b[0;34m\u001b[0m\u001b[0m\n\u001b[0;32m--> 533\u001b[0;31m         \u001b[0mresp\u001b[0m \u001b[0;34m=\u001b[0m \u001b[0mself\u001b[0m\u001b[0;34m.\u001b[0m\u001b[0msend\u001b[0m\u001b[0;34m(\u001b[0m\u001b[0mprep\u001b[0m\u001b[0;34m,\u001b[0m \u001b[0;34m**\u001b[0m\u001b[0msend_kwargs\u001b[0m\u001b[0;34m)\u001b[0m\u001b[0;34m\u001b[0m\u001b[0m\n\u001b[0m\u001b[1;32m    534\u001b[0m \u001b[0;34m\u001b[0m\u001b[0m\n\u001b[1;32m    535\u001b[0m         \u001b[0;32mreturn\u001b[0m \u001b[0mresp\u001b[0m\u001b[0;34m\u001b[0m\u001b[0m\n",
      "\u001b[0;32m~/anaconda3/lib/python3.7/site-packages/requests/sessions.py\u001b[0m in \u001b[0;36msend\u001b[0;34m(self, request, **kwargs)\u001b[0m\n\u001b[1;32m    644\u001b[0m \u001b[0;34m\u001b[0m\u001b[0m\n\u001b[1;32m    645\u001b[0m         \u001b[0;31m# Send the request\u001b[0m\u001b[0;34m\u001b[0m\u001b[0;34m\u001b[0m\u001b[0m\n\u001b[0;32m--> 646\u001b[0;31m         \u001b[0mr\u001b[0m \u001b[0;34m=\u001b[0m \u001b[0madapter\u001b[0m\u001b[0;34m.\u001b[0m\u001b[0msend\u001b[0m\u001b[0;34m(\u001b[0m\u001b[0mrequest\u001b[0m\u001b[0;34m,\u001b[0m \u001b[0;34m**\u001b[0m\u001b[0mkwargs\u001b[0m\u001b[0;34m)\u001b[0m\u001b[0;34m\u001b[0m\u001b[0m\n\u001b[0m\u001b[1;32m    647\u001b[0m \u001b[0;34m\u001b[0m\u001b[0m\n\u001b[1;32m    648\u001b[0m         \u001b[0;31m# Total elapsed time of the request (approximately)\u001b[0m\u001b[0;34m\u001b[0m\u001b[0;34m\u001b[0m\u001b[0m\n",
      "\u001b[0;32m~/anaconda3/lib/python3.7/site-packages/requests/adapters.py\u001b[0m in \u001b[0;36msend\u001b[0;34m(self, request, stream, timeout, verify, cert, proxies)\u001b[0m\n\u001b[1;32m    514\u001b[0m                 \u001b[0;32mraise\u001b[0m \u001b[0mSSLError\u001b[0m\u001b[0;34m(\u001b[0m\u001b[0me\u001b[0m\u001b[0;34m,\u001b[0m \u001b[0mrequest\u001b[0m\u001b[0;34m=\u001b[0m\u001b[0mrequest\u001b[0m\u001b[0;34m)\u001b[0m\u001b[0;34m\u001b[0m\u001b[0m\n\u001b[1;32m    515\u001b[0m \u001b[0;34m\u001b[0m\u001b[0m\n\u001b[0;32m--> 516\u001b[0;31m             \u001b[0;32mraise\u001b[0m \u001b[0mConnectionError\u001b[0m\u001b[0;34m(\u001b[0m\u001b[0me\u001b[0m\u001b[0;34m,\u001b[0m \u001b[0mrequest\u001b[0m\u001b[0;34m=\u001b[0m\u001b[0mrequest\u001b[0m\u001b[0;34m)\u001b[0m\u001b[0;34m\u001b[0m\u001b[0m\n\u001b[0m\u001b[1;32m    517\u001b[0m \u001b[0;34m\u001b[0m\u001b[0m\n\u001b[1;32m    518\u001b[0m         \u001b[0;32mexcept\u001b[0m \u001b[0mClosedPoolError\u001b[0m \u001b[0;32mas\u001b[0m \u001b[0me\u001b[0m\u001b[0;34m:\u001b[0m\u001b[0;34m\u001b[0m\u001b[0m\n",
      "\u001b[0;31mConnectionError\u001b[0m: HTTPConnectionPool(host='api.openweathermap.org', port=80): Max retries exceeded with url: /data/2.5/weather?q=chuy,uy&units=imperial&APPID=06380c949aec90a798561052e0fbd015 (Caused by NewConnectionError('<urllib3.connection.HTTPConnection object at 0x1a269b58d0>: Failed to establish a new connection: [Errno 50] Network is down'))"
     ]
    }
   ],
   "source": [
    "# Set the sample size.\n",
    "sample_size = 500\n",
    "target_url = 'http://api.openweathermap.org/data/2.5/weather?q='\n",
    "#set variable for api key \n",
    "api_key = \"06380c949aec90a798561052e0fbd015\"\n",
    "units = 'imperial'\n",
    "\n",
    "record = 0\n",
    "\n",
    "# Loop through and grab the Temp, Humidity, Cloudiness and Wind Speed using OpenWeatherMapAPI\n",
    "    \n",
    "while len(WeatherPy_df) < sample_size:\n",
    "    # choose a random point within the domain \n",
    "    rand_lat = random.choice(lat_array)\n",
    "    rand_long = random.choice(long_array)\n",
    "    # Call citipy's nearest_city() method to get a city object.\n",
    "    city = citipy.nearest_city(rand_lat, rand_long)\n",
    "    city_name = city.city_name\n",
    "    country_code = city.country_code\n",
    "    # Call Open Weather Map API to obtain data and append it to df\n",
    "    url = target_url + city_name + ',' + country_code + '&units=' + units + '&APPID=' + api_key\n",
    "    weather_response = requests.get(url)\n",
    "    file = weather_response.json()\n",
    "    if file[\"cod\"] == 200:\n",
    "        print('City: %s. %s' % (file['name'], url))\n",
    "        latitude = file[\"coord\"][\"lat\"]\n",
    "        longitude = file[\"coord\"][\"lon\"]\n",
    "        temp = file[\"main\"][\"temp\"]\n",
    "        humidity = file[\"main\"][\"humidity\"]\n",
    "        cloud = file[\"clouds\"][\"all\"]\n",
    "        wind = file[\"wind\"][\"speed\"]\n",
    "        \n",
    "        \n",
    "\n",
    "        record += 1\n",
    "        \n",
    "        # Wait between 1-4 seconds before next loop\n",
    "        time.sleep(random.randint(1, 4))\n",
    "        \n",
    "else:\n",
    "    pass\n",
    "    \n",
    "print(\"Here are your results\")\n",
    "\n",
    "\n",
    "\n",
    "# save the data frame to a csv file \n",
    "WeatherPy_df.to_csv(\"weatherpy_data.csv\")"
   ]
  },
  {
   "cell_type": "markdown",
   "metadata": {},
   "source": [
    "### Convert Raw Data to DataFrame\n",
    "* Export the city data into a .csv.\n",
    "* Display the DataFrame"
   ]
  },
  {
   "cell_type": "code",
   "execution_count": 9,
   "metadata": {},
   "outputs": [
    {
     "data": {
      "text/html": [
       "<div>\n",
       "<style scoped>\n",
       "    .dataframe tbody tr th:only-of-type {\n",
       "        vertical-align: middle;\n",
       "    }\n",
       "\n",
       "    .dataframe tbody tr th {\n",
       "        vertical-align: top;\n",
       "    }\n",
       "\n",
       "    .dataframe thead th {\n",
       "        text-align: right;\n",
       "    }\n",
       "</style>\n",
       "<table border=\"1\" class=\"dataframe\">\n",
       "  <thead>\n",
       "    <tr style=\"text-align: right;\">\n",
       "      <th></th>\n",
       "      <th>city_name</th>\n",
       "      <th>country_code</th>\n",
       "      <th>Latitude</th>\n",
       "      <th>Longitude</th>\n",
       "      <th>Temp (F)</th>\n",
       "      <th>Humidity (%)</th>\n",
       "      <th>Cloudiness (%)</th>\n",
       "      <th>Wind Speed (mph)</th>\n",
       "    </tr>\n",
       "  </thead>\n",
       "  <tbody>\n",
       "  </tbody>\n",
       "</table>\n",
       "</div>"
      ],
      "text/plain": [
       "Empty DataFrame\n",
       "Columns: [city_name, country_code, Latitude, Longitude, Temp (F), Humidity (%), Cloudiness (%), Wind Speed (mph)]\n",
       "Index: []"
      ]
     },
     "execution_count": 9,
     "metadata": {},
     "output_type": "execute_result"
    }
   ],
   "source": [
    "# Display the count of cities with weather data\n",
    "WeatherPy_df.head()"
   ]
  },
  {
   "cell_type": "code",
   "execution_count": 10,
   "metadata": {},
   "outputs": [
    {
     "data": {
      "text/html": [
       "<div>\n",
       "<style scoped>\n",
       "    .dataframe tbody tr th:only-of-type {\n",
       "        vertical-align: middle;\n",
       "    }\n",
       "\n",
       "    .dataframe tbody tr th {\n",
       "        vertical-align: top;\n",
       "    }\n",
       "\n",
       "    .dataframe thead th {\n",
       "        text-align: right;\n",
       "    }\n",
       "</style>\n",
       "<table border=\"1\" class=\"dataframe\">\n",
       "  <thead>\n",
       "    <tr style=\"text-align: right;\">\n",
       "      <th></th>\n",
       "      <th>city_name</th>\n",
       "      <th>country_code</th>\n",
       "      <th>Latitude</th>\n",
       "      <th>Longitude</th>\n",
       "      <th>Temp (F)</th>\n",
       "      <th>Humidity (%)</th>\n",
       "      <th>Cloudiness (%)</th>\n",
       "      <th>Wind Speed (mph)</th>\n",
       "    </tr>\n",
       "  </thead>\n",
       "  <tbody>\n",
       "  </tbody>\n",
       "</table>\n",
       "</div>"
      ],
      "text/plain": [
       "Empty DataFrame\n",
       "Columns: [city_name, country_code, Latitude, Longitude, Temp (F), Humidity (%), Cloudiness (%), Wind Speed (mph)]\n",
       "Index: []"
      ]
     },
     "execution_count": 10,
     "metadata": {},
     "output_type": "execute_result"
    }
   ],
   "source": [
    "# save to csv file\n",
    "WeatherPy_df.to_csv(\"weatherpy_data.csv\")\n",
    "\n",
    "# Display the city weather data frame\n",
    "WeatherPy_df.head(10)"
   ]
  },
  {
   "cell_type": "markdown",
   "metadata": {},
   "source": [
    "### Plotting the Data\n",
    "* Use proper labeling of the plots using plot titles (including date of analysis) and axes labels.\n",
    "* Save the plotted figures as .pngs."
   ]
  },
  {
   "cell_type": "markdown",
   "metadata": {},
   "source": [
    "#### Latitude vs. Temperature Plot"
   ]
  },
  {
   "cell_type": "code",
   "execution_count": 12,
   "metadata": {},
   "outputs": [
    {
     "data": {
      "image/png": "[encoded data removed]",
      "text/plain": [
       "<Figure size 432x288 with 1 Axes>"
      ]
     },
     "metadata": {
      "needs_background": "light"
     },
     "output_type": "display_data"
    },
    {
     "data": {
      "text/plain": [
       "<Figure size 432x288 with 0 Axes>"
      ]
     },
     "metadata": {},
     "output_type": "display_data"
    }
   ],
   "source": [
    "#Latitude Vs Temperature Scatter Plot\n",
    "plt.scatter(WeatherPy_df[\"Latitude\"],WeatherPy_df[\"Temp (F)\"],marker =\"o\")\n",
    "plt.title(\"Latitude Vs Temperature Scatter Plot\")\n",
    "plt.xlabel(\"Latitude\")\n",
    "plt.ylabel(\"Temperature (F)\")\n",
    "sns.set()\n",
    "plt.show()\n",
    "\n",
    "# Save the figure\n",
    "plt.savefig(\"Latitude_Vs_Temperature_Scatter_Plot.png\")"
   ]
  },
  {
   "cell_type": "markdown",
   "metadata": {},
   "source": [
    "#### Latitude vs. Humidity Plot"
   ]
  },
  {
   "cell_type": "code",
   "execution_count": 14,
   "metadata": {},
   "outputs": [
    {
     "data": {
      "image/png": "[encoded data removed]",
      "text/plain": [
       "<Figure size 432x288 with 1 Axes>"
      ]
     },
     "metadata": {},
     "output_type": "display_data"
    },
    {
     "data": {
      "text/plain": [
       "<Figure size 432x288 with 0 Axes>"
      ]
     },
     "metadata": {},
     "output_type": "display_data"
    }
   ],
   "source": [
    "#Humidity Vs. Latitude Scatter Plot\n",
    "plt.scatter(WeatherPy_df[\"Latitude\"],WeatherPy_df[\"Humidity (%)\"],marker =\"o\")\n",
    "plt.title(\"Humidity vs Latitude Scatter Plot\")\n",
    "plt.xlabel(\"Latitude\")\n",
    "plt.ylabel(\"Humidity (%)\")\n",
    "plt.ylim(0,150)\n",
    "sns.set()\n",
    "plt.show()\n",
    "\n",
    "# Save the figure\n",
    "plt.savefig(\"humidity_vs_latitude_scatter_plot.png\")"
   ]
  },
  {
   "cell_type": "markdown",
   "metadata": {},
   "source": [
    "#### Latitude vs. Cloudiness Plot"
   ]
  },
  {
   "cell_type": "code",
   "execution_count": 15,
   "metadata": {},
   "outputs": [
    {
     "data": {
      "image/png": "[encoded data removed]",
      "text/plain": [
       "<Figure size 432x288 with 1 Axes>"
      ]
     },
     "metadata": {},
     "output_type": "display_data"
    },
    {
     "data": {
      "text/plain": [
       "<Figure size 432x288 with 0 Axes>"
      ]
     },
     "metadata": {},
     "output_type": "display_data"
    }
   ],
   "source": [
    "#Cloudiness Vs. Latitude Scatter Plot\n",
    "plt.scatter(WeatherPy_df[\"Latitude\"],WeatherPy_df[\"Cloudiness (%)\"],marker =\"o\")\n",
    "plt.title(\"Cloudiness Vs. Latitude Scatter Plot\")\n",
    "plt.xlabel(\"Latitude\")\n",
    "plt.ylabel(\"Cloudiness (%)\")\n",
    "sns.set()\n",
    "plt.show()\n",
    "\n",
    "# Save the figure\n",
    "plt.savefig(\"Cloudiness_vs_Latitude_Scatter_Plot.png\")\n"
   ]
  },
  {
   "cell_type": "markdown",
   "metadata": {},
   "source": [
    "#### Latitude vs. Wind Speed Plot"
   ]
  },
  {
   "cell_type": "code",
   "execution_count": 16,
   "metadata": {},
   "outputs": [
    {
     "data": {
      "image/png": "[encoded data removed]",
      "text/plain": [
       "<Figure size 432x288 with 1 Axes>"
      ]
     },
     "metadata": {},
     "output_type": "display_data"
    },
    {
     "data": {
      "text/plain": [
       "<Figure size 432x288 with 0 Axes>"
      ]
     },
     "metadata": {},
     "output_type": "display_data"
    }
   ],
   "source": [
    "#Wind Speed Vs. Latitude Scatter Plot\n",
    "plt.scatter(WeatherPy_df[\"Latitude\"],WeatherPy_df[\"Wind Speed (mph)\"],marker =\"o\")\n",
    "plt.title(\"Wind Speed Vs. Latitude Scatter Plot\")\n",
    "plt.xlabel(\"Latitude\")\n",
    "plt.ylabel(\"Wind Speed (mph)\")\n",
    "sns.set()\n",
    "plt.show()\n",
    "\n",
    "# Save figure\n",
    "plt.savefig(\"Wind_Speed_Vs._Latitude_Scatter Plot.png\")"
   ]
  },
  {
   "cell_type": "code",
   "execution_count": null,
   "metadata": {},
   "outputs": [],
   "source": [
    "# Analysis \n",
    "#1. As the latitude goes to the east, the temperature goes down \n",
    "#2. The further you move from the equator, whether from east or west, the higher the wind speed \n",
    "#3. It seems that cloudiness and latitude do not have a coorellation. "
   ]
  },
  {
   "cell_type": "code",
   "execution_count": null,
   "metadata": {},
   "outputs": [],
   "source": []
  }
 ],
 "metadata": {
  "anaconda-cloud": {},
  "kernelspec": {
   "display_name": "Python 3",
   "language": "python",
   "name": "python3"
  },
  "language_info": {
   "codemirror_mode": {
    "name": "ipython",
    "version": 3
   },
   "file_extension": ".py",
   "mimetype": "text/x-python",
   "name": "python",
   "nbconvert_exporter": "python",
   "pygments_lexer": "ipython3",
   "version": "3.7.0"
  }
 },
 "nbformat": 4,
 "nbformat_minor": 2
}
